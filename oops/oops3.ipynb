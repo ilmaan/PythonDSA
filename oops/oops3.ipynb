{
 "cells": [
  {
   "cell_type": "markdown",
   "metadata": {},
   "source": [
    "Abstract Class"
   ]
  },
  {
   "cell_type": "code",
   "execution_count": 8,
   "metadata": {},
   "outputs": [],
   "source": [
    "from abc import ABC, abstractmethod"
   ]
  },
  {
   "cell_type": "code",
   "execution_count": 9,
   "metadata": {},
   "outputs": [
    {
     "name": "stdout",
     "output_type": "stream",
     "text": [
      "auto-- <__main__.auto object at 0x000002683DFDEB70>\n",
      "auto-- <__main__.auto object at 0x000002683DFDF170>\n"
     ]
    }
   ],
   "source": [
    "class auto(ABC):\n",
    "    def __init__(self) -> None:\n",
    "        print(\"auto--\",self)\n",
    "\n",
    "    def start(self):\n",
    "        pass\n",
    "\n",
    "    def stop(self):\n",
    "        pass\n",
    "\n",
    "    def drive(self):\n",
    "        pass\n",
    "\n",
    "c1 = auto()\n",
    "c2 = auto()"
   ]
  },
  {
   "cell_type": "code",
   "execution_count": 43,
   "metadata": {},
   "outputs": [
    {
     "name": "stdout",
     "output_type": "stream",
     "text": [
      "CAR CREATED\n",
      "CAR CREATED\n",
      "HELLO start abc\n"
     ]
    }
   ],
   "source": [
    "class autoo(ABC):\n",
    "    def __init__(self,name) -> None:\n",
    "        print(\"auto--\",name)\n",
    "\n",
    "    @abstractmethod\n",
    "    def start(self):\n",
    "        print(\"HELLO start abc\")\n",
    "        pass\n",
    "    \n",
    "    @abstractmethod\n",
    "    def stop(self):\n",
    "        pass\n",
    "    \n",
    "    @abstractmethod\n",
    "    def drive(self):\n",
    "        pass\n",
    "\n",
    "\n",
    "class car(autoo):\n",
    "\n",
    "    def __init__(self,name) -> None:\n",
    "        print(\"CAR CREATED\")\n",
    "    \n",
    "    def start(self):\n",
    "        # print(\"CARLCASS__FUNCT\")\n",
    "        return super().start()\n",
    "    \n",
    "    def drive(self):\n",
    "        return super().drive()\n",
    "    \n",
    "    def stop(self):\n",
    "        return super().stop()\n",
    "    \n",
    "\n",
    "\n",
    "\n",
    "c1 = car(\"HONDA\")\n",
    "c2 = car(\"BRV\")\n",
    "\n",
    "# c3= autoo()\n",
    "\n",
    "c1.start()"
   ]
  },
  {
   "cell_type": "code",
   "execution_count": null,
   "metadata": {},
   "outputs": [],
   "source": []
  }
 ],
 "metadata": {
  "kernelspec": {
   "display_name": "Python 3",
   "language": "python",
   "name": "python3"
  },
  "language_info": {
   "codemirror_mode": {
    "name": "ipython",
    "version": 3
   },
   "file_extension": ".py",
   "mimetype": "text/x-python",
   "name": "python",
   "nbconvert_exporter": "python",
   "pygments_lexer": "ipython3",
   "version": "3.12.0"
  }
 },
 "nbformat": 4,
 "nbformat_minor": 2
}
