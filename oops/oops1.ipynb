{
 "cells": [
  {
   "cell_type": "markdown",
   "metadata": {},
   "source": [
    "Self Parameter"
   ]
  },
  {
   "cell_type": "code",
   "execution_count": 26,
   "metadata": {},
   "outputs": [],
   "source": [
    "class Stud:\n",
    "    def studetail(self):\n",
    "        self.name = 'tt'\n",
    "        pass\n",
    "    nn = 'fsdf'\n",
    "\n"
   ]
  },
  {
   "cell_type": "code",
   "execution_count": 36,
   "metadata": {},
   "outputs": [
    {
     "name": "stdout",
     "output_type": "stream",
     "text": [
      "tt\n"
     ]
    }
   ],
   "source": [
    "# s1 = Stud()\n",
    "# s1.studetail()\n",
    "\n",
    "s2 = Stud()\n",
    "# print(s1.name)\n",
    "s2.studetail()\n",
    "print(s2.name)\n"
   ]
  },
  {
   "cell_type": "markdown",
   "metadata": {},
   "source": [
    "Static Methods"
   ]
  },
  {
   "cell_type": "code",
   "execution_count": 46,
   "metadata": {},
   "outputs": [
    {
     "name": "stdout",
     "output_type": "stream",
     "text": [
      "HSTATIC\n",
      "20 3\n"
     ]
    }
   ],
   "source": [
    "class stutwo:\n",
    "    x=20\n",
    "    \n",
    "    def mui(self):\n",
    "        self.name = \"divmod\"\n",
    "        x=2\n",
    "        self.ll = x\n",
    "\n",
    "    @staticmethod\n",
    "    def liip():\n",
    "        print(\"HSTATIC\")\n",
    "\n",
    "\n",
    "s2 = stutwo()\n",
    "\n",
    "s2.x =3\n",
    "s2.x\n",
    "s3 = stutwo\n",
    "\n",
    "s2.liip()\n",
    "\n",
    "print(s3.x,s2.x)\n",
    "    \n",
    "    "
   ]
  },
  {
   "cell_type": "markdown",
   "metadata": {},
   "source": [
    "Init"
   ]
  },
  {
   "cell_type": "code",
   "execution_count": 54,
   "metadata": {},
   "outputs": [
    {
     "data": {
      "text/plain": [
       "4"
      ]
     },
     "execution_count": 54,
     "metadata": {},
     "output_type": "execute_result"
    }
   ],
   "source": [
    "class stuthre:\n",
    "    def __init__(self,ee,qw):\n",
    "        self.n =12\n",
    "        self.r = 'asda'\n",
    "        self.ee =ee\n",
    "        self.qw = qw\n",
    "\n",
    "    \n",
    "\n",
    "ob1 = stuthre(1,4)\n",
    "\n",
    "\n",
    "ob1.qw\n",
    "        "
   ]
  },
  {
   "cell_type": "markdown",
   "metadata": {},
   "source": [
    "Class MEthods"
   ]
  },
  {
   "cell_type": "code",
   "execution_count": null,
   "metadata": {},
   "outputs": [],
   "source": []
  }
 ],
 "metadata": {
  "kernelspec": {
   "display_name": "Python 3",
   "language": "python",
   "name": "python3"
  },
  "language_info": {
   "codemirror_mode": {
    "name": "ipython",
    "version": 3
   },
   "file_extension": ".py",
   "mimetype": "text/x-python",
   "name": "python",
   "nbconvert_exporter": "python",
   "pygments_lexer": "ipython3",
   "version": "3.12.0"
  }
 },
 "nbformat": 4,
 "nbformat_minor": 2
}
