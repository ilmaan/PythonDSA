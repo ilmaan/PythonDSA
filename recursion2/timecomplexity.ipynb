{
 "cells": [
  {
   "cell_type": "markdown",
   "metadata": {},
   "source": [
    "Find Unique ELement in Array"
   ]
  },
  {
   "cell_type": "code",
   "execution_count": null,
   "metadata": {},
   "outputs": [],
   "source": [
    "n= [1,2,3,4,5,1,2,3,4,5,7]\n",
    "find = 7"
   ]
  },
  {
   "cell_type": "code",
   "execution_count": 7,
   "metadata": {},
   "outputs": [
    {
     "name": "stdout",
     "output_type": "stream",
     "text": [
      "1 ---- 1\n",
      "BREAKED\n",
      "2 ---- 2\n",
      "BREAKED\n",
      "3 ---- 3\n",
      "BREAKED\n",
      "4 ---- 4\n",
      "BREAKED\n",
      "CAUGHT IT === 4 3\n",
      "------------\n"
     ]
    }
   ],
   "source": [
    "def findunique(li):\n",
    "    for i in range(len(li)):\n",
    "        n = True\n",
    "        for j in range(i+1,len(li)):\n",
    "            if li[i]==li[j]:\n",
    "                print(li[i],'----',li[j])\n",
    "                n=False\n",
    "                print(\"BREAKED\")\n",
    "                break\n",
    "            else:\n",
    "                # print(\"NOT BREAKED\")\n",
    "                g = li[i]\n",
    "            \n",
    "    if n == True:\n",
    "        print(\"CAUGHT IT ===\",li[i],g)\n",
    "        print('------------')\n",
    "\n",
    "\n",
    "\n",
    "n= [1,2,3,4,9,1,2,3,4]\n",
    "\n",
    "findunique(n)"
   ]
  },
  {
   "cell_type": "code",
   "execution_count": 10,
   "metadata": {},
   "outputs": [
    {
     "data": {
      "text/plain": [
       "27"
      ]
     },
     "execution_count": 10,
     "metadata": {},
     "output_type": "execute_result"
    }
   ],
   "source": [
    "def find_unique_element(li):\n",
    "    for i in range(len(li)):\n",
    "        is_unique = True\n",
    "        for j in range(len(li)):\n",
    "            if i != j and li[i] == li[j]:\n",
    "                is_unique = False\n",
    "                break\n",
    "        if is_unique:\n",
    "            return li[i]\n",
    "    return None\n",
    "\n",
    "n= [1,2,3,4,1,2,27,3,4]\n",
    "\n",
    "find_unique_element(n)"
   ]
  },
  {
   "cell_type": "markdown",
   "metadata": {},
   "source": []
  },
  {
   "cell_type": "markdown",
   "metadata": {},
   "source": [
    "Duplicate in Aray"
   ]
  },
  {
   "cell_type": "code",
   "execution_count": 51,
   "metadata": {},
   "outputs": [
    {
     "data": {
      "text/plain": [
       "9"
      ]
     },
     "execution_count": 51,
     "metadata": {},
     "output_type": "execute_result"
    }
   ],
   "source": [
    "def find_duplicate(li):\n",
    "\n",
    "    for i in range(len(li)):\n",
    "        d = False\n",
    "        for j in range(len(li)):\n",
    "            if i!=j and li[i]==li[j]:\n",
    "                d= True\n",
    "                break\n",
    "        if d==True:\n",
    "            return li[i]\n",
    "        else:\n",
    "            print('NO DUBLICATE')\n",
    "\n",
    "\n",
    "n=[9,1,2,3,4,6,7,4,8,9]\n",
    "\n",
    "find_duplicate(n)"
   ]
  },
  {
   "cell_type": "code",
   "execution_count": 54,
   "metadata": {},
   "outputs": [
    {
     "name": "stdout",
     "output_type": "stream",
     "text": [
      "DDD [1, 3]\n"
     ]
    },
    {
     "data": {
      "text/plain": [
       "[1, 3]"
      ]
     },
     "execution_count": 54,
     "metadata": {},
     "output_type": "execute_result"
    }
   ],
   "source": [
    "def find_duplicate1(li):\n",
    "    d = []\n",
    "    l=[]\n",
    "    for i in li:\n",
    "        if i not in l:\n",
    "            l.append(i)\n",
    "        elif i not in d:\n",
    "            d.append(i)\n",
    "    print(\"DDD\",d)\n",
    "    return d\n",
    "\n",
    "\n",
    "n=[9,1,2,3,4,6,7,8,1,3]\n",
    "\n",
    "find_duplicate1(n)"
   ]
  },
  {
   "cell_type": "markdown",
   "metadata": {},
   "source": [
    "Rotate An Array "
   ]
  },
  {
   "cell_type": "code",
   "execution_count": 70,
   "metadata": {},
   "outputs": [
    {
     "name": "stdout",
     "output_type": "stream",
     "text": [
      "LI-- [1, 2, 3, 4]\n",
      "LI-- [2, 3, 4, 1]\n",
      "LI-- [3, 4, 1, 2]\n",
      "LI-- [4, 1, 2, 3]\n",
      "LI-- [1, 2, 3, 4]\n"
     ]
    }
   ],
   "source": [
    "def rotatearr(li,r):\n",
    "    for i in range(r):\n",
    "        print('LI--',li)\n",
    "        p=li[0]\n",
    "        li.pop(0)\n",
    "        li.append(p)\n",
    "\n",
    "\n",
    "li = [1,2,3,4]\n",
    "\n",
    "rotatearr(li,5)\n"
   ]
  },
  {
   "cell_type": "code",
   "execution_count": 77,
   "metadata": {},
   "outputs": [
    {
     "name": "stdout",
     "output_type": "stream",
     "text": [
      "[1, 2, 3, 4, 5, 6, 7] ----- []\n"
     ]
    },
    {
     "data": {
      "text/plain": [
       "[1, 2, 3, 4, 5, 6, 7]"
      ]
     },
     "execution_count": 77,
     "metadata": {},
     "output_type": "execute_result"
    }
   ],
   "source": [
    "def rotatearr1(li,r):\n",
    "    li1 = li[:r]\n",
    "    li = li[r:]\n",
    "    li.extend(li1)\n",
    "    return li\n",
    "\n",
    "\n",
    "\n",
    "li= [1,2,3,4,5,6,7]\n",
    "r=7\n",
    "rotatearr1(li,r)\n"
   ]
  },
  {
   "cell_type": "markdown",
   "metadata": {},
   "source": [
    "Find Array Intersection"
   ]
  },
  {
   "cell_type": "code",
   "execution_count": 39,
   "metadata": {},
   "outputs": [
    {
     "data": {
      "text/plain": [
       "[6, 2, 9, 8]"
      ]
     },
     "execution_count": 39,
     "metadata": {},
     "output_type": "execute_result"
    }
   ],
   "source": [
    "def findintersection(li1,li2):\n",
    "    li = []\n",
    "    lnli1 = len(li1)\n",
    "    lnli2 = len(li2)\n",
    "\n",
    "    if lnli1<lnli2:\n",
    "        li1,li2 = li2,li1\n",
    "        \n",
    "    for i in range(len(li1)):\n",
    "        for j in range(len(li2)):\n",
    "            if li1[i]==li2[j]:\n",
    "                li.append(li1[i])    \n",
    "                li2[j]=None\n",
    "    return(li)\n",
    "\n",
    "li1=[6,2,6,1,2,9,8]\n",
    "li2=[3,6,8,2,9]\n",
    "\n",
    "findintersection(li1,li2)"
   ]
  },
  {
   "cell_type": "markdown",
   "metadata": {},
   "source": [
    "Equilibrium Array -- fing index i where sum of elements on right = sum of elements in left"
   ]
  },
  {
   "cell_type": "code",
   "execution_count": 24,
   "metadata": {},
   "outputs": [
    {
     "name": "stdout",
     "output_type": "stream",
     "text": [
      "LEFT----- 0\n",
      "RIGHT----- 26\n",
      "LEFT----- 1\n",
      "RIGHT----- 24\n",
      "LEFT----- 3\n",
      "RIGHT----- 21\n",
      "LEFT----- 6\n",
      "RIGHT----- 15\n",
      "LEFT----- 12\n",
      "RIGHT----- 12\n",
      "==================\n"
     ]
    },
    {
     "data": {
      "text/plain": [
       "3"
      ]
     },
     "execution_count": 24,
     "metadata": {},
     "output_type": "execute_result"
    }
   ],
   "source": [
    "def findequil(li):\n",
    "    i=0\n",
    "    s=0\n",
    "    for i in range(len(li)):\n",
    "        l=0\n",
    "        r=0\n",
    "\n",
    "        for j in range(i):\n",
    "            l=l+li[j]\n",
    "        print('LEFT-----',l)\n",
    "        for k in range(i+1,len(li)):\n",
    "            r=r+li[k]\n",
    "        print('RIGHT-----',r)\n",
    "        if l==r:\n",
    "            print(\"==================\")\n",
    "            return li[i]\n",
    "\n",
    "\n",
    "\n",
    "\n",
    "li= [1,2,3,6,3,6,6]\n",
    "\n",
    "findequil(li)"
   ]
  },
  {
   "cell_type": "code",
   "execution_count": 36,
   "metadata": {},
   "outputs": [
    {
     "name": "stdout",
     "output_type": "stream",
     "text": [
      "None\n"
     ]
    }
   ],
   "source": [
    "def findequil(li):\n",
    "    # print(li)\n",
    "    # print(len(li))\n",
    "    \n",
    "    if len(li) == 1 or len(li) == 0:\n",
    "        return li\n",
    "    else:\n",
    "        jc=0\n",
    "        kc=0\n",
    "        for i in range(len(li)):\n",
    "            l=0\n",
    "            jc=jc+1\n",
    "            r=0\n",
    "            kc=kc+1\n",
    "            for j in range(0,len(li)-jc):\n",
    "                l=l+li[j]\n",
    "                # jc=jc+1\n",
    "                # print('LEFT-----',l)\n",
    "            for k in range(len(li)-kc,len(li)):\n",
    "                r=r+li[k]\n",
    "                # kc=kc+1\n",
    "                # print('RIGHT-----',r)\n",
    "            if l==r:\n",
    "                print(\"==================\")\n",
    "                return li[i]\n",
    "\n",
    "\n",
    "\n",
    "\n",
    "# li= [1,2,3,6,3,6,6]\n",
    "li = [1,2,3,4,3,2,1]\n",
    "\n",
    "print(findequil(li))"
   ]
  },
  {
   "cell_type": "code",
   "execution_count": 37,
   "metadata": {},
   "outputs": [
    {
     "name": "stdout",
     "output_type": "stream",
     "text": [
      "4\n"
     ]
    }
   ],
   "source": [
    "def findequil(li):\n",
    "    if len(li) == 1 or len(li) == 0:\n",
    "        return li\n",
    "\n",
    "    total_sum = sum(li)\n",
    "    left_sum = 0\n",
    "\n",
    "    for i in range(len(li)):\n",
    "        # Calculate right sum by subtracting left_sum and the current element from total_sum\n",
    "        right_sum = total_sum - left_sum - li[i]\n",
    "\n",
    "        # Check if left_sum equals right_sum\n",
    "        if left_sum == right_sum:\n",
    "            return li[i]\n",
    "\n",
    "        # Update left_sum by adding the current element\n",
    "        left_sum += li[i]\n",
    "\n",
    "    return None  # Return None if no equilibrium point is found\n",
    "\n",
    "# Example usage\n",
    "li = [1, 2, 3, 4, 3, 2, 1]\n",
    "print(findequil(li))\n"
   ]
  },
  {
   "cell_type": "code",
   "execution_count": 25,
   "metadata": {},
   "outputs": [
    {
     "name": "stdout",
     "output_type": "stream",
     "text": [
      "[1, 3, 6, 10, 13, 15, 16]\n",
      "[1, 2, 3, 4, 3, 2, 1]\n",
      "0 --------- 15\n",
      "1 --------- 13\n",
      "3 --------- 10\n",
      "6 --------- 6\n"
     ]
    },
    {
     "data": {
      "text/plain": [
       "4"
      ]
     },
     "execution_count": 25,
     "metadata": {},
     "output_type": "execute_result"
    }
   ],
   "source": [
    "def findequil1(li):\n",
    "    l=0\n",
    "    r=0\n",
    "    s=0\n",
    "    li1 = list(li)\n",
    "    for i in range(len(li)):\n",
    "        s = s+li[i]\n",
    "        li[i]=s\n",
    "    print(li)\n",
    "    print(li1)\n",
    "\n",
    "    for i in range(len(li)):\n",
    "        l = li[i] - li1[i]\n",
    "        r = li[-1] - li[i]\n",
    "        print(l,'---------',r)\n",
    "        if l==r:\n",
    "            return li1[i]\n",
    " \n",
    "\n",
    "# li = [1,2,3,2,6,4,2,1,2,0,-1]\n",
    "li = [1,2,3,4,3,2,1]\n",
    "\n",
    "findequil1(li)\n"
   ]
  },
  {
   "cell_type": "code",
   "execution_count": null,
   "metadata": {},
   "outputs": [],
   "source": []
  }
 ],
 "metadata": {
  "kernelspec": {
   "display_name": "Python 3",
   "language": "python",
   "name": "python3"
  },
  "language_info": {
   "codemirror_mode": {
    "name": "ipython",
    "version": 3
   },
   "file_extension": ".py",
   "mimetype": "text/x-python",
   "name": "python",
   "nbconvert_exporter": "python",
   "pygments_lexer": "ipython3",
   "version": "3.12.6"
  }
 },
 "nbformat": 4,
 "nbformat_minor": 2
}
