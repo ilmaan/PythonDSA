{
 "cells": [
  {
   "cell_type": "markdown",
   "metadata": {},
   "source": [
    "Replace a with b using recusrion"
   ]
  },
  {
   "cell_type": "code",
   "execution_count": 7,
   "metadata": {},
   "outputs": [
    {
     "data": {
      "text/plain": [
       "'bbcdbbbb'"
      ]
     },
     "execution_count": 7,
     "metadata": {},
     "output_type": "execute_result"
    }
   ],
   "source": [
    "def replaceab(s,a,b):\n",
    "    if len(s)==0 :\n",
    "        return s\n",
    "    if s[0]==a:\n",
    "        return b+replaceab(s[1:],\"a\",\"b\")\n",
    "         \n",
    "        \n",
    "    else:\n",
    "        return s[0]+replaceab(s[1:],\"a\",\"b\")\n",
    "\n",
    "\n",
    "s=\"abcdaabb\"\n",
    "a=\"a\"\n",
    "b=\"b\"\n",
    "replaceab(s,\"a\",\"b\")\n",
    "    \n"
   ]
  },
  {
   "cell_type": "markdown",
   "metadata": {},
   "source": [
    "replace \"pi\" with 3.14"
   ]
  },
  {
   "cell_type": "code",
   "execution_count": 23,
   "metadata": {},
   "outputs": [
    {
     "name": "stdout",
     "output_type": "stream",
     "text": [
      "abcpiabc\n",
      "ELSE,-- a abcpiabc\n",
      "bcpiabc\n",
      "ELSE,-- b bcpiabc\n",
      "cpiabc\n",
      "ELSE,-- c cpiabc\n",
      "piabc\n",
      "if,-- piabc\n",
      "abc\n",
      "ELSE,-- a abc\n",
      "bc\n",
      "ELSE,-- b bc\n",
      "c\n"
     ]
    },
    {
     "data": {
      "text/plain": [
       "'abc3.14abc'"
      ]
     },
     "execution_count": 23,
     "metadata": {},
     "output_type": "execute_result"
    }
   ],
   "source": [
    "def replacepi(s):\n",
    "    print(s)\n",
    "    if len(s)==0 or len(s)==1:\n",
    "        return s\n",
    "    if s[0]==\"p\" and s[1]==\"i\":\n",
    "        print(\"if,--\",s)\n",
    "        return \"3.14\"+replacepi(s[2:])\n",
    "    else:\n",
    "        print(\"ELSE,--\",s[0],s)\n",
    "        return s[0] + replacepi(s[1:])\n",
    "    \n",
    "s=\"abcpiabc\"\n",
    "\n",
    "replacepi(s)"
   ]
  },
  {
   "cell_type": "markdown",
   "metadata": {},
   "source": [
    "Binary Search using Recursion"
   ]
  },
  {
   "cell_type": "code",
   "execution_count": 65,
   "metadata": {},
   "outputs": [
    {
     "name": "stdout",
     "output_type": "stream",
     "text": [
      "---------- 1 9\n",
      "---------- 1 4\n",
      "---------- 1 1\n",
      "---------- 1 9\n"
     ]
    },
    {
     "data": {
      "text/plain": [
       "-1"
      ]
     },
     "execution_count": 65,
     "metadata": {},
     "output_type": "execute_result"
    }
   ],
   "source": [
    "def bin_s_rec(li,x,s,e):\n",
    "    # print('][][]',li)\n",
    "    if len(li)==0:\n",
    "        return li\n",
    "    # print(\"----------\",li[s],li[e])\n",
    "    if s>e:\n",
    "        return -1\n",
    "    m=(s+e)//2\n",
    "    # print('mmmm---',m)\n",
    "    if li[m]==x:\n",
    "        return m\n",
    "    elif x<li[m]:\n",
    "        return  bin_s_rec(li,x,s,m-1)\n",
    "    elif x>li[m]:\n",
    "        return bin_s_rec(li,x,m+1,e)\n",
    "\n",
    "li=[1,2,3,4,5,6,7,8,9]\n",
    "x=0\n",
    "bin_s_rec(li,x,0,len(li)-1)"
   ]
  },
  {
   "cell_type": "markdown",
   "metadata": {},
   "source": [
    "Merge Sort Using Recursion "
   ]
  },
  {
   "cell_type": "code",
   "execution_count": 77,
   "metadata": {},
   "outputs": [
    {
     "name": "stdout",
     "output_type": "stream",
     "text": [
      "[1, 2, 3, 4, 6, 8, 9]\n"
     ]
    }
   ],
   "source": [
    "def merge_s_rec(li):\n",
    "    if len(li)==0 or len(li)==1:\n",
    "        return li\n",
    "    m=len(li)//2\n",
    "    li1=li[:m]\n",
    "    li2=li[m:]\n",
    "\n",
    "    merge_s_rec(li1)\n",
    "    merge_s_rec(li2)\n",
    "\n",
    "    return merge(li1,li2,li)\n",
    "\n",
    "\n",
    "def merge(li1,li2,li):\n",
    "    i=0\n",
    "    j=0\n",
    "    k=0\n",
    "\n",
    "    while i <len(li1) and j<len(li2):\n",
    "        if (li1[i]<li2[j]):\n",
    "            li[k]=li1[i]\n",
    "            k=k+1\n",
    "            i=i+1\n",
    "        elif (li1[i]>li2[j]):\n",
    "            li[k]=li2[j]\n",
    "            k=k+1\n",
    "            j=j+1\n",
    "    \n",
    "    while i<len(li1):\n",
    "        li[k]=li1[i]\n",
    "        k=k+1\n",
    "        i=i+1\n",
    "    \n",
    "    while j<len(li2):\n",
    "        li[k]=li2[j]\n",
    "        k=k+1\n",
    "        j=j+1\n",
    "\n",
    "\n",
    "li=[2,1,3,6,4,9,8]\n",
    "\n",
    "merge_s_rec(li)\n",
    "\n",
    "print(li)\n",
    "\n",
    "        \n",
    "\n"
   ]
  },
  {
   "cell_type": "markdown",
   "metadata": {},
   "source": [
    "QuickSort using Recurion"
   ]
  },
  {
   "cell_type": "code",
   "execution_count": 4,
   "metadata": {},
   "outputs": [
    {
     "ename": "IndexError",
     "evalue": "list index out of range",
     "output_type": "error",
     "traceback": [
      "\u001b[1;31m---------------------------------------------------------------------------\u001b[0m",
      "\u001b[1;31mIndexError\u001b[0m                                Traceback (most recent call last)",
      "Cell \u001b[1;32mIn[4], line 40\u001b[0m\n\u001b[0;32m     34\u001b[0m     \u001b[38;5;28;01mreturn\u001b[39;00m p\n\u001b[0;32m     39\u001b[0m li\u001b[38;5;241m=\u001b[39m[\u001b[38;5;241m5\u001b[39m,\u001b[38;5;241m4\u001b[39m,\u001b[38;5;241m6\u001b[39m,\u001b[38;5;241m3\u001b[39m,\u001b[38;5;241m6\u001b[39m,\u001b[38;5;241m8\u001b[39m,\u001b[38;5;241m3\u001b[39m,\u001b[38;5;241m2\u001b[39m,\u001b[38;5;241m8\u001b[39m,\u001b[38;5;241m1\u001b[39m]\n\u001b[1;32m---> 40\u001b[0m \u001b[43mquick_s_rec\u001b[49m\u001b[43m(\u001b[49m\u001b[43mli\u001b[49m\u001b[43m,\u001b[49m\u001b[38;5;241;43m0\u001b[39;49m\u001b[43m,\u001b[49m\u001b[38;5;28;43mlen\u001b[39;49m\u001b[43m(\u001b[49m\u001b[43mli\u001b[49m\u001b[43m)\u001b[49m\u001b[38;5;241;43m-\u001b[39;49m\u001b[38;5;241;43m1\u001b[39;49m\u001b[43m)\u001b[49m\n",
      "Cell \u001b[1;32mIn[4], line 7\u001b[0m, in \u001b[0;36mquick_s_rec\u001b[1;34m(li, s, e)\u001b[0m\n\u001b[0;32m      4\u001b[0m \u001b[38;5;66;03m# if len(li)==0 or len(li)==1:\u001b[39;00m\n\u001b[0;32m      5\u001b[0m \u001b[38;5;66;03m#     return li\u001b[39;00m\n\u001b[0;32m      6\u001b[0m pivot \u001b[38;5;241m=\u001b[39m partition(li,s,e)\n\u001b[1;32m----> 7\u001b[0m \u001b[43mquick_s_rec\u001b[49m\u001b[43m(\u001b[49m\u001b[43mli\u001b[49m\u001b[43m,\u001b[49m\u001b[43ms\u001b[49m\u001b[43m,\u001b[49m\u001b[43mpivot\u001b[49m\u001b[38;5;241;43m-\u001b[39;49m\u001b[38;5;241;43m1\u001b[39;49m\u001b[43m)\u001b[49m\n\u001b[0;32m      8\u001b[0m quick_s_rec(li,pivot\u001b[38;5;241m-\u001b[39m\u001b[38;5;241m1\u001b[39m,e)\n",
      "Cell \u001b[1;32mIn[4], line 8\u001b[0m, in \u001b[0;36mquick_s_rec\u001b[1;34m(li, s, e)\u001b[0m\n\u001b[0;32m      6\u001b[0m pivot \u001b[38;5;241m=\u001b[39m partition(li,s,e)\n\u001b[0;32m      7\u001b[0m quick_s_rec(li,s,pivot\u001b[38;5;241m-\u001b[39m\u001b[38;5;241m1\u001b[39m)\n\u001b[1;32m----> 8\u001b[0m \u001b[43mquick_s_rec\u001b[49m\u001b[43m(\u001b[49m\u001b[43mli\u001b[49m\u001b[43m,\u001b[49m\u001b[43mpivot\u001b[49m\u001b[38;5;241;43m-\u001b[39;49m\u001b[38;5;241;43m1\u001b[39;49m\u001b[43m,\u001b[49m\u001b[43me\u001b[49m\u001b[43m)\u001b[49m\n",
      "Cell \u001b[1;32mIn[4], line 7\u001b[0m, in \u001b[0;36mquick_s_rec\u001b[1;34m(li, s, e)\u001b[0m\n\u001b[0;32m      4\u001b[0m \u001b[38;5;66;03m# if len(li)==0 or len(li)==1:\u001b[39;00m\n\u001b[0;32m      5\u001b[0m \u001b[38;5;66;03m#     return li\u001b[39;00m\n\u001b[0;32m      6\u001b[0m pivot \u001b[38;5;241m=\u001b[39m partition(li,s,e)\n\u001b[1;32m----> 7\u001b[0m \u001b[43mquick_s_rec\u001b[49m\u001b[43m(\u001b[49m\u001b[43mli\u001b[49m\u001b[43m,\u001b[49m\u001b[43ms\u001b[49m\u001b[43m,\u001b[49m\u001b[43mpivot\u001b[49m\u001b[38;5;241;43m-\u001b[39;49m\u001b[38;5;241;43m1\u001b[39;49m\u001b[43m)\u001b[49m\n\u001b[0;32m      8\u001b[0m quick_s_rec(li,pivot\u001b[38;5;241m-\u001b[39m\u001b[38;5;241m1\u001b[39m,e)\n",
      "    \u001b[1;31m[... skipping similar frames: quick_s_rec at line 7 (2 times)]\u001b[0m\n",
      "Cell \u001b[1;32mIn[4], line 8\u001b[0m, in \u001b[0;36mquick_s_rec\u001b[1;34m(li, s, e)\u001b[0m\n\u001b[0;32m      6\u001b[0m pivot \u001b[38;5;241m=\u001b[39m partition(li,s,e)\n\u001b[0;32m      7\u001b[0m quick_s_rec(li,s,pivot\u001b[38;5;241m-\u001b[39m\u001b[38;5;241m1\u001b[39m)\n\u001b[1;32m----> 8\u001b[0m \u001b[43mquick_s_rec\u001b[49m\u001b[43m(\u001b[49m\u001b[43mli\u001b[49m\u001b[43m,\u001b[49m\u001b[43mpivot\u001b[49m\u001b[38;5;241;43m-\u001b[39;49m\u001b[38;5;241;43m1\u001b[39;49m\u001b[43m,\u001b[49m\u001b[43me\u001b[49m\u001b[43m)\u001b[49m\n",
      "    \u001b[1;31m[... skipping similar frames: quick_s_rec at line 7 (8 times), quick_s_rec at line 8 (8 times)]\u001b[0m\n",
      "Cell \u001b[1;32mIn[4], line 7\u001b[0m, in \u001b[0;36mquick_s_rec\u001b[1;34m(li, s, e)\u001b[0m\n\u001b[0;32m      4\u001b[0m \u001b[38;5;66;03m# if len(li)==0 or len(li)==1:\u001b[39;00m\n\u001b[0;32m      5\u001b[0m \u001b[38;5;66;03m#     return li\u001b[39;00m\n\u001b[0;32m      6\u001b[0m pivot \u001b[38;5;241m=\u001b[39m partition(li,s,e)\n\u001b[1;32m----> 7\u001b[0m \u001b[43mquick_s_rec\u001b[49m\u001b[43m(\u001b[49m\u001b[43mli\u001b[49m\u001b[43m,\u001b[49m\u001b[43ms\u001b[49m\u001b[43m,\u001b[49m\u001b[43mpivot\u001b[49m\u001b[38;5;241;43m-\u001b[39;49m\u001b[38;5;241;43m1\u001b[39;49m\u001b[43m)\u001b[49m\n\u001b[0;32m      8\u001b[0m quick_s_rec(li,pivot\u001b[38;5;241m-\u001b[39m\u001b[38;5;241m1\u001b[39m,e)\n",
      "Cell \u001b[1;32mIn[4], line 8\u001b[0m, in \u001b[0;36mquick_s_rec\u001b[1;34m(li, s, e)\u001b[0m\n\u001b[0;32m      6\u001b[0m pivot \u001b[38;5;241m=\u001b[39m partition(li,s,e)\n\u001b[0;32m      7\u001b[0m quick_s_rec(li,s,pivot\u001b[38;5;241m-\u001b[39m\u001b[38;5;241m1\u001b[39m)\n\u001b[1;32m----> 8\u001b[0m \u001b[43mquick_s_rec\u001b[49m\u001b[43m(\u001b[49m\u001b[43mli\u001b[49m\u001b[43m,\u001b[49m\u001b[43mpivot\u001b[49m\u001b[38;5;241;43m-\u001b[39;49m\u001b[38;5;241;43m1\u001b[39;49m\u001b[43m,\u001b[49m\u001b[43me\u001b[49m\u001b[43m)\u001b[49m\n",
      "Cell \u001b[1;32mIn[4], line 6\u001b[0m, in \u001b[0;36mquick_s_rec\u001b[1;34m(li, s, e)\u001b[0m\n\u001b[0;32m      3\u001b[0m     \u001b[38;5;28;01mreturn\u001b[39;00m \n\u001b[0;32m      4\u001b[0m \u001b[38;5;66;03m# if len(li)==0 or len(li)==1:\u001b[39;00m\n\u001b[0;32m      5\u001b[0m \u001b[38;5;66;03m#     return li\u001b[39;00m\n\u001b[1;32m----> 6\u001b[0m pivot \u001b[38;5;241m=\u001b[39m \u001b[43mpartition\u001b[49m\u001b[43m(\u001b[49m\u001b[43mli\u001b[49m\u001b[43m,\u001b[49m\u001b[43ms\u001b[49m\u001b[43m,\u001b[49m\u001b[43me\u001b[49m\u001b[43m)\u001b[49m\n\u001b[0;32m      7\u001b[0m quick_s_rec(li,s,pivot\u001b[38;5;241m-\u001b[39m\u001b[38;5;241m1\u001b[39m)\n\u001b[0;32m      8\u001b[0m quick_s_rec(li,pivot\u001b[38;5;241m-\u001b[39m\u001b[38;5;241m1\u001b[39m,e)\n",
      "Cell \u001b[1;32mIn[4], line 14\u001b[0m, in \u001b[0;36mpartition\u001b[1;34m(li, s, e)\u001b[0m\n\u001b[0;32m     11\u001b[0m \u001b[38;5;28;01mdef\u001b[39;00m \u001b[38;5;21mpartition\u001b[39m(li,s,e):\n\u001b[0;32m     12\u001b[0m     \u001b[38;5;66;03m# if len(li)==0 or len(li)==1:\u001b[39;00m\n\u001b[0;32m     13\u001b[0m     \u001b[38;5;66;03m#     return li\u001b[39;00m\n\u001b[1;32m---> 14\u001b[0m     p\u001b[38;5;241m=\u001b[39m\u001b[43mli\u001b[49m\u001b[43m[\u001b[49m\u001b[43ms\u001b[49m\u001b[43m]\u001b[49m\n\u001b[0;32m     15\u001b[0m     c\u001b[38;5;241m=\u001b[39m\u001b[38;5;241m0\u001b[39m\n\u001b[0;32m     16\u001b[0m     \u001b[38;5;28;01mfor\u001b[39;00m i \u001b[38;5;129;01min\u001b[39;00m \u001b[38;5;28mrange\u001b[39m(s,e\u001b[38;5;241m+\u001b[39m\u001b[38;5;241m1\u001b[39m):\n",
      "\u001b[1;31mIndexError\u001b[0m: list index out of range"
     ]
    }
   ],
   "source": [
    "def quick_s_rec(li,s,e):\n",
    "    if s>e:\n",
    "        return \n",
    "    # if len(li)==0 or len(li)==1:\n",
    "    #     return li\n",
    "    pivot = partition(li,s,e)\n",
    "    quick_s_rec(li,s,pivot-1)\n",
    "    quick_s_rec(li,pivot-1,e)\n",
    "\n",
    "\n",
    "def partition(li,s,e):\n",
    "    # if len(li)==0 or len(li)==1:\n",
    "    #     return li\n",
    "    p=li[s]\n",
    "    c=0\n",
    "    for i in range(s,e+1):\n",
    "        if li[i]<p:\n",
    "            c=c+1\n",
    "    li[s+c],li[s]=li[s],li[s+c]\n",
    "    p=s+c\n",
    "\n",
    "    i=s\n",
    "    j=e\n",
    "\n",
    "    while i<j:\n",
    "        if li[i]< p:\n",
    "            i=i+1\n",
    "        elif li[j]>=p:\n",
    "            j=j-1\n",
    "        else:\n",
    "            li[i],li[j]=li[j],li[i]\n",
    "            i=i+1\n",
    "            j=j-1\n",
    "    return p\n",
    "\n",
    "    \n",
    "    \n",
    "\n",
    "li=[5,4,6,3,6,8,3,2,8,1]\n",
    "quick_s_rec(li,0,len(li)-1)\n",
    "    "
   ]
  },
  {
   "cell_type": "markdown",
   "metadata": {},
   "source": [
    "Check Palindrome using recursion/"
   ]
  },
  {
   "cell_type": "code",
   "execution_count": 1,
   "metadata": {},
   "outputs": [
    {
     "name": "stdout",
     "output_type": "stream",
     "text": [
      "s ---- s\n",
      "a ---- a\n"
     ]
    },
    {
     "data": {
      "text/plain": [
       "True"
      ]
     },
     "execution_count": 1,
     "metadata": {},
     "output_type": "execute_result"
    }
   ],
   "source": [
    "def palindrome(w,s,e):\n",
    "    if len(w)==0 or len(w)==1:\n",
    "        return False\n",
    "    if s>=e:\n",
    "        return True\n",
    "    print(w[s],'----',w[e])\n",
    "    if w[s]!=w[e]:\n",
    "        print('Not Palin')\n",
    "        return False\n",
    "    if w[s]==w[e]:\n",
    "        # s=s+1\n",
    "        # e=e-1\n",
    "        return palindrome(w,s+1,e-1)\n",
    "        print(\"PALINDOEME\")\n",
    "        # return True\n",
    "    # return True\n",
    "\n",
    "w=\"sabas\"\n",
    "palindrome(w,0,len(w)-1)"
   ]
  },
  {
   "cell_type": "code",
   "execution_count": null,
   "metadata": {},
   "outputs": [],
   "source": []
  },
  {
   "cell_type": "code",
   "execution_count": null,
   "metadata": {},
   "outputs": [],
   "source": []
  }
 ],
 "metadata": {
  "kernelspec": {
   "display_name": "Python 3",
   "language": "python",
   "name": "python3"
  },
  "language_info": {
   "codemirror_mode": {
    "name": "ipython",
    "version": 3
   },
   "file_extension": ".py",
   "mimetype": "text/x-python",
   "name": "python",
   "nbconvert_exporter": "python",
   "pygments_lexer": "ipython3",
   "version": "3.12.6"
  }
 },
 "nbformat": 4,
 "nbformat_minor": 2
}
