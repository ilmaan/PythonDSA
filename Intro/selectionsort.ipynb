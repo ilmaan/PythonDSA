{
 "cells": [
  {
   "cell_type": "code",
   "execution_count": null,
   "metadata": {},
   "outputs": [],
   "source": []
  },
  {
   "cell_type": "code",
   "execution_count": 19,
   "metadata": {},
   "outputs": [],
   "source": [
    "def selsort(li):\n",
    "    for i in range(len(li)):\n",
    "        print(li)\n",
    "        for j in range(i+1,len(li)):\n",
    "            if li[i]>li[j]:\n",
    "                li[i],li[j] = li[j],li[i]\n",
    "                # print('i--',li[i],'j--',li[j])\n",
    "\n"
   ]
  },
  {
   "cell_type": "code",
   "execution_count": 21,
   "metadata": {},
   "outputs": [
    {
     "name": "stdout",
     "output_type": "stream",
     "text": [
      "[7, 81, 2, 3, 45, 6, 4, 5, 3, 1, 2, 4, 3, 34, 343, 4, 545]\n",
      "[1, 81, 7, 3, 45, 6, 4, 5, 3, 2, 2, 4, 3, 34, 343, 4, 545]\n",
      "[1, 2, 81, 7, 45, 6, 4, 5, 3, 3, 2, 4, 3, 34, 343, 4, 545]\n",
      "[1, 2, 2, 81, 45, 7, 6, 5, 4, 3, 3, 4, 3, 34, 343, 4, 545]\n",
      "[1, 2, 2, 3, 81, 45, 7, 6, 5, 4, 3, 4, 3, 34, 343, 4, 545]\n",
      "[1, 2, 2, 3, 3, 81, 45, 7, 6, 5, 4, 4, 3, 34, 343, 4, 545]\n",
      "[1, 2, 2, 3, 3, 3, 81, 45, 7, 6, 5, 4, 4, 34, 343, 4, 545]\n",
      "[1, 2, 2, 3, 3, 3, 4, 81, 45, 7, 6, 5, 4, 34, 343, 4, 545]\n",
      "[1, 2, 2, 3, 3, 3, 4, 4, 81, 45, 7, 6, 5, 34, 343, 4, 545]\n",
      "[1, 2, 2, 3, 3, 3, 4, 4, 4, 81, 45, 7, 6, 34, 343, 5, 545]\n",
      "[1, 2, 2, 3, 3, 3, 4, 4, 4, 5, 81, 45, 7, 34, 343, 6, 545]\n",
      "[1, 2, 2, 3, 3, 3, 4, 4, 4, 5, 6, 81, 45, 34, 343, 7, 545]\n",
      "[1, 2, 2, 3, 3, 3, 4, 4, 4, 5, 6, 7, 81, 45, 343, 34, 545]\n",
      "[1, 2, 2, 3, 3, 3, 4, 4, 4, 5, 6, 7, 34, 81, 343, 45, 545]\n",
      "[1, 2, 2, 3, 3, 3, 4, 4, 4, 5, 6, 7, 34, 45, 343, 81, 545]\n",
      "[1, 2, 2, 3, 3, 3, 4, 4, 4, 5, 6, 7, 34, 45, 81, 343, 545]\n",
      "[1, 2, 2, 3, 3, 3, 4, 4, 4, 5, 6, 7, 34, 45, 81, 343, 545]\n"
     ]
    }
   ],
   "source": [
    "li =[7,81,2,3,45,6,4,5,3,1,2,4,3,34,343,4,545]\n",
    "selsort(li)"
   ]
  },
  {
   "cell_type": "code",
   "execution_count": null,
   "metadata": {},
   "outputs": [],
   "source": []
  }
 ],
 "metadata": {
  "kernelspec": {
   "display_name": "Python 3",
   "language": "python",
   "name": "python3"
  },
  "language_info": {
   "codemirror_mode": {
    "name": "ipython",
    "version": 3
   },
   "file_extension": ".py",
   "mimetype": "text/x-python",
   "name": "python",
   "nbconvert_exporter": "python",
   "pygments_lexer": "ipython3",
   "version": "3.12.6"
  }
 },
 "nbformat": 4,
 "nbformat_minor": 2
}
