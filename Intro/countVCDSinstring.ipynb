{
 "cells": [
  {
   "cell_type": "code",
   "execution_count": null,
   "metadata": {},
   "outputs": [],
   "source": []
  },
  {
   "cell_type": "markdown",
   "metadata": {},
   "source": [
    "COUNT number of vovels, consonent, digit, special character in string "
   ]
  },
  {
   "cell_type": "code",
   "execution_count": 13,
   "metadata": {},
   "outputs": [
    {
     "name": "stdout",
     "output_type": "stream",
     "text": [
      "V: 10 --C: 27 --D: 0 --s: 9\n"
     ]
    }
   ],
   "source": [
    "def countvcdr(ch):\n",
    "    v,c,d,s=0,0,0,0\n",
    "    for i in ch:\n",
    "\n",
    "        if (i>='a' and i<='z') or (i>='A' and i<='Z'):\n",
    "            i=i.lower()\n",
    "            if i in \"aeiou\":\n",
    "                v=v+1\n",
    "            else:\n",
    "                c=c+1\n",
    "        elif i>='0' and i<='9':\n",
    "            d=d+1\n",
    "        else:\n",
    "            s=s+1\n",
    "\n",
    "    print(\"V:\",v,\"--C:\",c,'--D:',d,'--s:',s)\n",
    "\n",
    "st='!@!ksjaaaaaadfwwdfkj#!@#U!)kajndnakjcasdSDfsdf'\n",
    "\n",
    "countvcdr(st)\n"
   ]
  },
  {
   "cell_type": "code",
   "execution_count": null,
   "metadata": {},
   "outputs": [],
   "source": []
  }
 ],
 "metadata": {
  "kernelspec": {
   "display_name": "Python 3",
   "language": "python",
   "name": "python3"
  },
  "language_info": {
   "codemirror_mode": {
    "name": "ipython",
    "version": 3
   },
   "file_extension": ".py",
   "mimetype": "text/x-python",
   "name": "python",
   "nbconvert_exporter": "python",
   "pygments_lexer": "ipython3",
   "version": "3.12.0"
  }
 },
 "nbformat": 4,
 "nbformat_minor": 2
}
