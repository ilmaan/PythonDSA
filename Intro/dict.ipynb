{
 "cells": [
  {
   "cell_type": "code",
   "execution_count": null,
   "metadata": {},
   "outputs": [],
   "source": []
  },
  {
   "cell_type": "markdown",
   "metadata": {},
   "source": [
    "Print freq of words in string"
   ]
  },
  {
   "cell_type": "code",
   "execution_count": 21,
   "metadata": {},
   "outputs": [],
   "source": [
    "def freqdict(st):\n",
    "    d={}\n",
    "    l= st.split(' ')\n",
    "    for i in l:\n",
    "        if not i in d:\n",
    "            d[i]=1\n",
    "        else:\n",
    "            d[i] = d[i]+1\n",
    "\n",
    "    print(d)"
   ]
  },
  {
   "cell_type": "code",
   "execution_count": 23,
   "metadata": {},
   "outputs": [
    {
     "name": "stdout",
     "output_type": "stream",
     "text": [
      "{'hi': 1, 'i': 2, 'am': 1, 'men': 5, 'we': 1, 'do': 1}\n"
     ]
    }
   ],
   "source": [
    "st=\"hi i am men i men we do men men men\"\n",
    "\n",
    "freqdict(st)"
   ]
  },
  {
   "cell_type": "code",
   "execution_count": 18,
   "metadata": {},
   "outputs": [
    {
     "name": "stdout",
     "output_type": "stream",
     "text": [
      "1\n",
      "2\n",
      "5\n"
     ]
    }
   ],
   "source": [
    "d = {'s':1,'g':2,'q':5}\n",
    "\n",
    "for i in d:\n",
    "    print(d[i])"
   ]
  },
  {
   "cell_type": "code",
   "execution_count": 6,
   "metadata": {},
   "outputs": [
    {
     "data": {
      "text/plain": [
       "1"
      ]
     },
     "execution_count": 6,
     "metadata": {},
     "output_type": "execute_result"
    }
   ],
   "source": [
    "d['s']"
   ]
  },
  {
   "cell_type": "code",
   "execution_count": 10,
   "metadata": {},
   "outputs": [],
   "source": [
    "def freqdictsh(st):\n",
    "    d={}\n",
    "    l= st.split(' ')\n",
    "    for i in l:\n",
    "        d[i] = d.get(i,0)+1\n",
    "    print(\"d\",d)\n",
    "    for i in d:\n",
    "        if d[i]==5:\n",
    "            print('dddd',i)\n"
   ]
  },
  {
   "cell_type": "code",
   "execution_count": 11,
   "metadata": {},
   "outputs": [
    {
     "name": "stdout",
     "output_type": "stream",
     "text": [
      "d {'hi': 1, 'i': 5, 'am': 1, 'men': 5, 'we': 1, 'do': 1}\n",
      "dddd i\n",
      "dddd men\n"
     ]
    }
   ],
   "source": [
    "st=\"hi i am men i men we do men men men i i i\"\n",
    "\n",
    "\n",
    "freqdictsh(st)"
   ]
  },
  {
   "cell_type": "code",
   "execution_count": null,
   "metadata": {},
   "outputs": [],
   "source": []
  }
 ],
 "metadata": {
  "kernelspec": {
   "display_name": "Python 3",
   "language": "python",
   "name": "python3"
  },
  "language_info": {
   "codemirror_mode": {
    "name": "ipython",
    "version": 3
   },
   "file_extension": ".py",
   "mimetype": "text/x-python",
   "name": "python",
   "nbconvert_exporter": "python",
   "pygments_lexer": "ipython3",
   "version": "3.12.6"
  }
 },
 "nbformat": 4,
 "nbformat_minor": 2
}
