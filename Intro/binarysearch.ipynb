{
 "cells": [
  {
   "cell_type": "code",
   "execution_count": 7,
   "metadata": {},
   "outputs": [],
   "source": [
    "def binary_s(li,f):\n",
    "    s=0\n",
    "    l=len(li)-1\n",
    "    \n",
    "\n",
    "    while s<=l:\n",
    "        # print(s)\n",
    "        m = (s+l)//2\n",
    "        if li[m] == f:\n",
    "            return m\n",
    "        elif li[m]<f:\n",
    "            s = m+1\n",
    "        else:\n",
    "            l = m-1\n",
    "\n",
    "    return -1"
   ]
  },
  {
   "cell_type": "code",
   "execution_count": 9,
   "metadata": {},
   "outputs": [
    {
     "data": {
      "text/plain": [
       "-1"
      ]
     },
     "execution_count": 9,
     "metadata": {},
     "output_type": "execute_result"
    }
   ],
   "source": [
    "li=[5,17,8,9,12,123,43]\n",
    "binary_s(li,8)\n"
   ]
  },
  {
   "cell_type": "code",
   "execution_count": 10,
   "metadata": {},
   "outputs": [],
   "source": [
    "def bin_s(li,f):\n",
    "    s = 0\n",
    "    l= len(li)-1\n",
    "\n",
    "    while s<=l:\n",
    "        mid = (s+l)//2\n",
    "        print(\"mid\",mid,s,l,li[mid])\n",
    "        if li[mid] == f:\n",
    "            return mid\n",
    "        elif li[mid]<f:\n",
    "            s=mid+1\n",
    "        elif li[mid]>f:\n",
    "            l = mid-1\n",
    "    return -1"
   ]
  },
  {
   "cell_type": "code",
   "execution_count": 11,
   "metadata": {},
   "outputs": [
    {
     "name": "stdout",
     "output_type": "stream",
     "text": [
      "mid 2 0 5 5\n",
      "mid 4 3 5 98\n"
     ]
    },
    {
     "data": {
      "text/plain": [
       "4"
      ]
     },
     "execution_count": 11,
     "metadata": {},
     "output_type": "execute_result"
    }
   ],
   "source": [
    "li = [3,4,5,67,98,333]\n",
    "bin_s(li,98)"
   ]
  },
  {
   "cell_type": "code",
   "execution_count": null,
   "metadata": {},
   "outputs": [],
   "source": []
  }
 ],
 "metadata": {
  "kernelspec": {
   "display_name": "Python 3",
   "language": "python",
   "name": "python3"
  },
  "language_info": {
   "codemirror_mode": {
    "name": "ipython",
    "version": 3
   },
   "file_extension": ".py",
   "mimetype": "text/x-python",
   "name": "python",
   "nbconvert_exporter": "python",
   "pygments_lexer": "ipython3",
   "version": "3.12.6"
  }
 },
 "nbformat": 4,
 "nbformat_minor": 2
}
