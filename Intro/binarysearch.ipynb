{
 "cells": [
  {
   "cell_type": "code",
   "execution_count": 42,
   "metadata": {},
   "outputs": [],
   "source": [
    "def binary_s(li,f):\n",
    "    s=0\n",
    "    l=len(li)-1\n",
    "    \n",
    "\n",
    "    while s<=l:\n",
    "        # print(s)\n",
    "        m = (s+l)//2\n",
    "        if li[m] == f:\n",
    "            return m\n",
    "        elif li[m]<f:\n",
    "            s = m+1\n",
    "        else:\n",
    "            l = m-1\n",
    "\n",
    "    return -1"
   ]
  },
  {
   "cell_type": "code",
   "execution_count": 58,
   "metadata": {},
   "outputs": [
    {
     "data": {
      "text/plain": [
       "0"
      ]
     },
     "execution_count": 58,
     "metadata": {},
     "output_type": "execute_result"
    }
   ],
   "source": [
    "li=[5,7,8,9]\n",
    "binary_s(li,5)\n"
   ]
  },
  {
   "cell_type": "code",
   "execution_count": 69,
   "metadata": {},
   "outputs": [],
   "source": [
    "def bin_s(li,f):\n",
    "    s = 0\n",
    "    l= len(li)-1\n",
    "\n",
    "    while s<=l:\n",
    "        mid = (s+l)//2\n",
    "        print(mid)\n",
    "        if li[mid] == f:\n",
    "            return mid\n",
    "        elif li[mid]<f:\n",
    "            s=mid+1\n",
    "        elif li[mid]>f:\n",
    "            l = mid-1\n",
    "    return -1"
   ]
  },
  {
   "cell_type": "code",
   "execution_count": 74,
   "metadata": {},
   "outputs": [
    {
     "name": "stdout",
     "output_type": "stream",
     "text": [
      "2\n",
      "4\n"
     ]
    },
    {
     "data": {
      "text/plain": [
       "4"
      ]
     },
     "execution_count": 74,
     "metadata": {},
     "output_type": "execute_result"
    }
   ],
   "source": [
    "li = [3,4,5,67,98,333]\n",
    "bin_s(li,98)"
   ]
  },
  {
   "cell_type": "code",
   "execution_count": null,
   "metadata": {},
   "outputs": [],
   "source": []
  }
 ],
 "metadata": {
  "kernelspec": {
   "display_name": "Python 3",
   "language": "python",
   "name": "python3"
  },
  "language_info": {
   "codemirror_mode": {
    "name": "ipython",
    "version": 3
   },
   "file_extension": ".py",
   "mimetype": "text/x-python",
   "name": "python",
   "nbconvert_exporter": "python",
   "pygments_lexer": "ipython3",
   "version": "3.12.0"
  }
 },
 "nbformat": 4,
 "nbformat_minor": 2
}
