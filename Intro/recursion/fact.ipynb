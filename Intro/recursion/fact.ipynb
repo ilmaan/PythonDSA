{
 "cells": [
  {
   "cell_type": "code",
   "execution_count": null,
   "metadata": {},
   "outputs": [],
   "source": []
  },
  {
   "cell_type": "markdown",
   "metadata": {},
   "source": [
    "Factorial"
   ]
  },
  {
   "cell_type": "code",
   "execution_count": 6,
   "metadata": {},
   "outputs": [
    {
     "name": "stdout",
     "output_type": "stream",
     "text": [
      "5 n-1 4\n",
      "4 n-1 3\n",
      "3 n-1 2\n",
      "2 n-1 1\n",
      "1 n-1 0\n"
     ]
    },
    {
     "data": {
      "text/plain": [
       "120"
      ]
     },
     "execution_count": 6,
     "metadata": {},
     "output_type": "execute_result"
    }
   ],
   "source": [
    "def fact(n):\n",
    "    if n==0:\n",
    "        return 1\n",
    "    print(n,'n-1',n-1)\n",
    "    return n* fact(n-1)\n",
    "\n",
    "fact(5)"
   ]
  },
  {
   "cell_type": "markdown",
   "metadata": {},
   "source": [
    "Power of a no"
   ]
  },
  {
   "cell_type": "code",
   "execution_count": 5,
   "metadata": {},
   "outputs": [],
   "source": [
    "def powno(n,p):\n",
    "    if p==0:\n",
    "        return 1\n",
    "    else:\n",
    "        return(n*powno(n,p-1))\n"
   ]
  },
  {
   "cell_type": "code",
   "execution_count": 7,
   "metadata": {},
   "outputs": [
    {
     "name": "stdout",
     "output_type": "stream",
     "text": [
      "3\n",
      "9\n",
      "3\n",
      "27\n",
      "3\n",
      "9\n",
      "3\n",
      "81\n",
      "3\n",
      "9\n",
      "3\n",
      "27\n",
      "3\n",
      "9\n",
      "3\n"
     ]
    },
    {
     "data": {
      "text/plain": [
       "81"
      ]
     },
     "execution_count": 7,
     "metadata": {},
     "output_type": "execute_result"
    }
   ],
   "source": [
    "powno(3,4)"
   ]
  },
  {
   "cell_type": "markdown",
   "metadata": {},
   "source": [
    "Print firnt n natural no"
   ]
  },
  {
   "cell_type": "code",
   "execution_count": 3,
   "metadata": {},
   "outputs": [],
   "source": [
    "def print1ton(n):\n",
    "    if n==0:\n",
    "        return\n",
    "    print1ton(n-1)\n",
    "    print(n)\n",
    "    return"
   ]
  },
  {
   "cell_type": "code",
   "execution_count": 4,
   "metadata": {},
   "outputs": [
    {
     "name": "stdout",
     "output_type": "stream",
     "text": [
      "1\n",
      "2\n",
      "3\n",
      "4\n",
      "5\n"
     ]
    }
   ],
   "source": [
    "print1ton(5)"
   ]
  },
  {
   "cell_type": "code",
   "execution_count": 17,
   "metadata": {},
   "outputs": [],
   "source": [
    "def printnto1(n):\n",
    "    if n==0:\n",
    "        return\n",
    "    print(n)\n",
    "    printnto1(n-1)"
   ]
  },
  {
   "cell_type": "code",
   "execution_count": 18,
   "metadata": {},
   "outputs": [
    {
     "name": "stdout",
     "output_type": "stream",
     "text": [
      "5\n",
      "4\n",
      "3\n",
      "2\n",
      "1\n"
     ]
    }
   ],
   "source": [
    "printnto1(5)"
   ]
  },
  {
   "cell_type": "markdown",
   "metadata": {},
   "source": [
    "Fibonacci"
   ]
  },
  {
   "cell_type": "code",
   "execution_count": 5,
   "metadata": {},
   "outputs": [],
   "source": [
    "def fibonacci(n):\n",
    "    if n <= 0:\n",
    "        return 0\n",
    "    if n==1 or n==2:\n",
    "        return 1\n",
    "    fib = fibonacci(n-1) + fibonacci(n-2)\n",
    "    return fib\n"
   ]
  },
  {
   "cell_type": "code",
   "execution_count": 9,
   "metadata": {},
   "outputs": [
    {
     "data": {
      "text/plain": [
       "2"
      ]
     },
     "execution_count": 9,
     "metadata": {},
     "output_type": "execute_result"
    }
   ],
   "source": [
    "fibonacci(3)"
   ]
  },
  {
   "cell_type": "markdown",
   "metadata": {},
   "source": [
    "Check if list is sorted using recursion"
   ]
  },
  {
   "cell_type": "code",
   "execution_count": 50,
   "metadata": {},
   "outputs": [],
   "source": [
    "def issorted(li):\n",
    "    l = len(li)\n",
    "    if l==0 or l==1:\n",
    "        return True\n",
    "    if li[0]>li[1]:\n",
    "        print('Not Sorted')\n",
    "        return False\n",
    "    else:\n",
    "        li2 = li[1:]\n",
    "        print(li,'----',li2)\n",
    "        return issorted(li2)\n"
   ]
  },
  {
   "cell_type": "code",
   "execution_count": 52,
   "metadata": {},
   "outputs": [
    {
     "name": "stdout",
     "output_type": "stream",
     "text": [
      "Not Sorted\n"
     ]
    },
    {
     "data": {
      "text/plain": [
       "False"
      ]
     },
     "execution_count": 52,
     "metadata": {},
     "output_type": "execute_result"
    }
   ],
   "source": [
    "li=[1,2,3,4,9]\n",
    "\n",
    "issorted(li)"
   ]
  },
  {
   "cell_type": "markdown",
   "metadata": {},
   "source": [
    "Sum of array using recursion"
   ]
  },
  {
   "cell_type": "code",
   "execution_count": 33,
   "metadata": {},
   "outputs": [],
   "source": [
    "def sumofarr(li):\n",
    "    lnli = len(li)\n",
    "    if lnli == 0:\n",
    "        return 0\n",
    "    elif lnli == 1:\n",
    "        return li[0]\n",
    "    else:\n",
    "        li2=li[1:]\n",
    "        return li[0]+sumofarr(li2)\n",
    "        "
   ]
  },
  {
   "cell_type": "code",
   "execution_count": 40,
   "metadata": {},
   "outputs": [
    {
     "data": {
      "text/plain": [
       "83"
      ]
     },
     "execution_count": 40,
     "metadata": {},
     "output_type": "execute_result"
    }
   ],
   "source": [
    "li=[4,5,67,7]\n",
    "sumofarr(li)"
   ]
  },
  {
   "cell_type": "markdown",
   "metadata": {},
   "source": [
    "Check if no in array"
   ]
  },
  {
   "cell_type": "code",
   "execution_count": 17,
   "metadata": {},
   "outputs": [],
   "source": [
    "def checkno(li,n):\n",
    "    lnli=len(li)\n",
    "    if lnli ==0:\n",
    "        return False\n",
    "    if li[0]==n:\n",
    "        return True\n",
    "    elif lnli ==1 and li[0]==n:\n",
    "        return True\n",
    "    else:\n",
    "        li2=li[1:]\n",
    "        return checkno(li2,n)\n",
    "    \n",
    "        \n",
    "    "
   ]
  },
  {
   "cell_type": "code",
   "execution_count": 18,
   "metadata": {},
   "outputs": [
    {
     "data": {
      "text/plain": [
       "True"
      ]
     },
     "execution_count": 18,
     "metadata": {},
     "output_type": "execute_result"
    }
   ],
   "source": [
    "li = [0]\n",
    "\n",
    "checkno(li,0)"
   ]
  },
  {
   "cell_type": "markdown",
   "metadata": {},
   "source": [
    "Check list is sorted less memory"
   ]
  },
  {
   "cell_type": "code",
   "execution_count": 20,
   "metadata": {},
   "outputs": [],
   "source": [
    "def issorted2(li,s=0):\n",
    "    if len(li)==0 or len(li)==1 or s==len(li)-1:\n",
    "        return True\n",
    "    \n",
    "    if li[s]>li[s+1]:\n",
    "        return False\n",
    "    else:\n",
    "        li2 = issorted2(li,s+1)\n",
    "        return li2\n"
   ]
  },
  {
   "cell_type": "code",
   "execution_count": 22,
   "metadata": {},
   "outputs": [
    {
     "data": {
      "text/plain": [
       "True"
      ]
     },
     "execution_count": 22,
     "metadata": {},
     "output_type": "execute_result"
    }
   ],
   "source": [
    "li = [1,2,3,4,7]\n",
    "\n",
    "issorted2(li)"
   ]
  },
  {
   "cell_type": "markdown",
   "metadata": {},
   "source": [
    "First Occurence of no in list"
   ]
  },
  {
   "cell_type": "code",
   "execution_count": 95,
   "metadata": {},
   "outputs": [],
   "source": [
    "def firstoccr(li,x,i=0):\n",
    "    if len(li)==0 or i==len(li)-1:\n",
    "        return False\n",
    "    if li[i]==x:\n",
    "        return i\n",
    "    else:\n",
    "        return firstoccr(li,x,i+1)\n",
    "    \n",
    "    "
   ]
  },
  {
   "cell_type": "code",
   "execution_count": 96,
   "metadata": {},
   "outputs": [
    {
     "data": {
      "text/plain": [
       "5"
      ]
     },
     "execution_count": 96,
     "metadata": {},
     "output_type": "execute_result"
    }
   ],
   "source": [
    "li=[1,2,3,4,5,7,2,7,7,74,9]\n",
    "\n",
    "firstoccr(li,7)"
   ]
  },
  {
   "cell_type": "code",
   "execution_count": 38,
   "metadata": {},
   "outputs": [],
   "source": [
    "def lastoccr(li,x,i=0):\n",
    "    if len(li)==0 or i==len(li)-1:\n",
    "        return False\n",
    "    if li[i]==x:\n",
    "        lst_index = lastoccr(li,x,i+1)\n",
    "        if lst_index:\n",
    "            return lst_index\n",
    "        else:\n",
    "            return i\n",
    "\n",
    "    else:\n",
    "        return lastoccr(li,x,i+1)\n",
    "    \n",
    "    "
   ]
  },
  {
   "cell_type": "code",
   "execution_count": 39,
   "metadata": {},
   "outputs": [
    {
     "data": {
      "text/plain": [
       "8"
      ]
     },
     "execution_count": 39,
     "metadata": {},
     "output_type": "execute_result"
    }
   ],
   "source": [
    "li=[1,2,3,4,5,7,2,7,7,74,9]\n",
    "\n",
    "lastoccr(li,7)"
   ]
  },
  {
   "cell_type": "code",
   "execution_count": 42,
   "metadata": {},
   "outputs": [
    {
     "name": "stdout",
     "output_type": "stream",
     "text": [
      "NOT THERE\n",
      "0\n"
     ]
    }
   ],
   "source": [
    "\n",
    "\n",
    "def firstindex(li,x,p=0):\n",
    "    l = len(li)\n",
    "    # print('-=-=-',p)\n",
    "    \n",
    "    # s=\"SORTED\"\n",
    "    if l == 0:\n",
    "        print(\"NOT THERE\")\n",
    "        return 0 \n",
    "    if li == 1 and li[0] != x:\n",
    "        print(\"NOT THERE\")\n",
    "    if li[0]==x:\n",
    "        print(\"AT INDEX --\",p)\n",
    "        return p\n",
    "    else:\n",
    "        \n",
    "        print(\"HEEE\")\n",
    "        li2 = li[1:]\n",
    "        firstindex(li2,x,p+1)\n",
    "        \n",
    "        \n",
    "        # print(\"sorted\")\n",
    "        \n",
    "    \n",
    "    \n",
    "            \n",
    "            \n",
    "    \n",
    "li = [1,2,3,4,2,3,3,5]\n",
    "li=[]\n",
    "x=firstindex(li,3)\n",
    "\n",
    "print(x)\n"
   ]
  },
  {
   "cell_type": "markdown",
   "metadata": {},
   "source": [
    "Reverse Array using recursion"
   ]
  },
  {
   "cell_type": "code",
   "execution_count": 44,
   "metadata": {},
   "outputs": [
    {
     "name": "stdout",
     "output_type": "stream",
     "text": [
      "[1, 2, 3, 4, 5] 0 None\n",
      "[5, 2, 3, 4, 1] 1 3\n",
      "[5, 4, 3, 2, 1] 2 2\n",
      "[5, 4, 3, 2, 1]\n"
     ]
    }
   ],
   "source": [
    "\n",
    "def lastindex(li,x,p=0):\n",
    "    l = len(li)\n",
    "    if l==0:\n",
    "        print(\"NOT HERE 0\")\n",
    "        return 0\n",
    "    if l==1 and li[0]!=x:\n",
    "        print(\"NOT EHRE \")\n",
    "        return 0\n",
    "    lis = li[1:]\n",
    "    \n",
    "    \n",
    "def revlirec(li,s=0,e=None):\n",
    "    l = len(li)\n",
    "    print(li,s,e)\n",
    "    \n",
    "    if e==None:\n",
    "        e = len(li)-1\n",
    "    \n",
    "    if s>=e:\n",
    "        return li\n",
    "    \n",
    "    if l==0 or l==1:\n",
    "        print(\"ARE YOU KDDING ME\")\n",
    "        return li\n",
    "    else:\n",
    "        # print(\"ONE\")\n",
    "        li[s],li[e] = li[e],li[s]\n",
    "        # li = li[1:-1]\n",
    "        revlirec(li,s+1,e-1)\n",
    "    return li\n",
    "\n",
    "li = [1,2,3,4,5]\n",
    "x = revlirec(li)\n",
    "print(x)\n",
    "        \n",
    "    \n",
    "    \n",
    "    \n",
    "        \n",
    "        "
   ]
  },
  {
   "cell_type": "code",
   "execution_count": 65,
   "metadata": {},
   "outputs": [
    {
     "name": "stdout",
     "output_type": "stream",
     "text": [
      "amama\n"
     ]
    },
    {
     "data": {
      "text/plain": [
       "True"
      ]
     },
     "execution_count": 65,
     "metadata": {},
     "output_type": "execute_result"
    }
   ],
   "source": [
    "def palinrec(st,s=0,e=None,f=0):\n",
    "    # print(\"HEY\",st)\n",
    "    if f==0:\n",
    "        st = st.lower()\n",
    "        for i in st:\n",
    "            if i.isalpha()==0:\n",
    "                # print(i)\n",
    "                st = st.replace(i,'')\n",
    "        print(st)\n",
    "    if e==None:\n",
    "        e=len(st)-1\n",
    "    if s>=e:\n",
    "        \n",
    "        return True\n",
    "    l=len(st)\n",
    "    if l==0 or l==1:\n",
    "        return True\n",
    "    if st[s]!=st[e]:\n",
    "        return False\n",
    "    \n",
    "\n",
    "\n",
    "    if st[s]==st[e]:\n",
    "        return palinrec(st,s+1,e-1,1)\n",
    "         \n",
    "    \n",
    "\n",
    "s = 'A mam, a'\n",
    "\n",
    "palinrec(s)"
   ]
  },
  {
   "cell_type": "code",
   "execution_count": 68,
   "metadata": {},
   "outputs": [
    {
     "name": "stdout",
     "output_type": "stream",
     "text": [
      "amanaplanssssaacanalpaanamaa\n",
      "True\n"
     ]
    }
   ],
   "source": [
    "class Solution:\n",
    "    def isPalindrome(self, st: str,s=0,e=None,f=0) -> bool:\n",
    "\n",
    "        if f==0:\n",
    "            st=str(st)\n",
    "            st = st.lower()\n",
    "            for i in st:\n",
    "                if i.isalpha()==0:\n",
    "                    st = st.replace(i,'')\n",
    "            if len(st)==1 or len(st)==0:\n",
    "                return True\n",
    "            print(st)\n",
    "        if e==None:\n",
    "            e=len(st)-1\n",
    "\n",
    "        l=len(st)\n",
    "        if l==0 or l==1:\n",
    "            return False\n",
    "        \n",
    "        if st == \" \":\n",
    "            return True\n",
    "        \n",
    "        if s>=e:\n",
    "            print(\"FORM HERE\")\n",
    "            return True\n",
    "\n",
    "        if st[s]!=st[e]:\n",
    "            return False\n",
    "        # if st[s]==st[e]:\n",
    "        return Solution.isPalindrome(st,s+1,e-1,1)\n",
    "            \n",
    "\n",
    "# Test the function\n",
    "solution = Solution()\n",
    "s = \"a man, a plan, ssssaa canal: Paanamaa\"\n",
    "print(solution.isPalindrome(s))  # Output: False"
   ]
  },
  {
   "cell_type": "markdown",
   "metadata": {},
   "source": [
    "Print Fibonacci"
   ]
  },
  {
   "cell_type": "code",
   "execution_count": null,
   "metadata": {},
   "outputs": [],
   "source": []
  }
 ],
 "metadata": {
  "kernelspec": {
   "display_name": "Python 3",
   "language": "python",
   "name": "python3"
  },
  "language_info": {
   "codemirror_mode": {
    "name": "ipython",
    "version": 3
   },
   "file_extension": ".py",
   "mimetype": "text/x-python",
   "name": "python",
   "nbconvert_exporter": "python",
   "pygments_lexer": "ipython3",
   "version": "3.12.6"
  }
 },
 "nbformat": 4,
 "nbformat_minor": 2
}
