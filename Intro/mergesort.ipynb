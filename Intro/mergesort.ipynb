{
 "cells": [
  {
   "cell_type": "code",
   "execution_count": 17,
   "metadata": {},
   "outputs": [],
   "source": [
    "def mergetwo(li1,li2):\n",
    "    li = []\n",
    "    i,j=0,0\n",
    "\n",
    "    while i<len(li1) and j<len(li2):\n",
    "        if li1[i]>li2[j]:\n",
    "            li.append(li2[j])\n",
    "            j=j+1\n",
    "        else:\n",
    "            li.append(li1[i])\n",
    "            i=i+1\n",
    "    \n",
    "    while (i<len(li1)):\n",
    "        li.append(li1[i])\n",
    "        i=i+1\n",
    "    \n",
    "    while (j<len(li2)):\n",
    "        li.append(li2[j])\n",
    "        j=j+1\n",
    "\n",
    "\n",
    "    print(li)\n"
   ]
  },
  {
   "cell_type": "code",
   "execution_count": 21,
   "metadata": {},
   "outputs": [
    {
     "name": "stdout",
     "output_type": "stream",
     "text": [
      "1 0000000 43\n",
      "2 0000000 43\n",
      "3 0000000 43\n",
      "6 0000000 43\n",
      "[1, 2, 3, 6, 43, 5, 8, 9, 12, 14, 2]\n"
     ]
    }
   ],
   "source": [
    "li1=[1,2,3,6]\n",
    "li2=[43,5,8,9,12,14,2]\n",
    "mergetwo(li1,li2)"
   ]
  },
  {
   "cell_type": "code",
   "execution_count": null,
   "metadata": {},
   "outputs": [],
   "source": []
  }
 ],
 "metadata": {
  "kernelspec": {
   "display_name": "Python 3",
   "language": "python",
   "name": "python3"
  },
  "language_info": {
   "codemirror_mode": {
    "name": "ipython",
    "version": 3
   },
   "file_extension": ".py",
   "mimetype": "text/x-python",
   "name": "python",
   "nbconvert_exporter": "python",
   "pygments_lexer": "ipython3",
   "version": "3.12.0"
  }
 },
 "nbformat": 4,
 "nbformat_minor": 2
}
