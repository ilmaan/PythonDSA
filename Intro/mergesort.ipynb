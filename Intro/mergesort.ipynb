{
 "cells": [
  {
   "cell_type": "code",
   "execution_count": 7,
   "metadata": {},
   "outputs": [],
   "source": [
    "def mergetwo(li1,li2):\n",
    "    li = []\n",
    "    i,j=0,0\n",
    "\n",
    "    while (i<len(li1)) and (j<len(li2)):\n",
    "        if li1[i]>li2[j]:\n",
    "            li.append(li2[j])\n",
    "            j=j+1\n",
    "        else:\n",
    "            li.append(li1[i])\n",
    "            i=i+1\n",
    "    \n",
    "    while (i<len(li1)):\n",
    "        li.append(li1[i])\n",
    "        i=i+1\n",
    "    \n",
    "    while (j<len(li2)):\n",
    "        li.append(li2[j])\n",
    "        j=j+1\n",
    "\n",
    "\n",
    "    print(li)\n"
   ]
  },
  {
   "cell_type": "code",
   "execution_count": 12,
   "metadata": {},
   "outputs": [
    {
     "name": "stdout",
     "output_type": "stream",
     "text": [
      "[1, 2, 3, 5, 6, 8, 9, 12, 14]\n"
     ]
    }
   ],
   "source": [
    "li1=[1,2,3,6]\n",
    "li2=[5,8,9,12,14]\n",
    "# li1=[1,4,9,10]\n",
    "# li2=[2,3,6,7,8]\n",
    "mergetwo(li1,li2)"
   ]
  },
  {
   "cell_type": "code",
   "execution_count": null,
   "metadata": {},
   "outputs": [],
   "source": []
  }
 ],
 "metadata": {
  "kernelspec": {
   "display_name": "Python 3",
   "language": "python",
   "name": "python3"
  },
  "language_info": {
   "codemirror_mode": {
    "name": "ipython",
    "version": 3
   },
   "file_extension": ".py",
   "mimetype": "text/x-python",
   "name": "python",
   "nbconvert_exporter": "python",
   "pygments_lexer": "ipython3",
   "version": "3.12.6"
  }
 },
 "nbformat": 4,
 "nbformat_minor": 2
}
