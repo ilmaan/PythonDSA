{
 "cells": [
  {
   "cell_type": "code",
   "execution_count": 3,
   "metadata": {},
   "outputs": [],
   "source": [
    "def insetsor(li):\n",
    "    for i in range(len(li)):\n",
    "        j = i-1\n",
    "        t = li[i]\n",
    "        while (j>=0 and li[j]>t):\n",
    "            li[j+1] = li[j]\n",
    "            j=j-1\n",
    "            li[j+1] = t\n",
    "        print(li)"
   ]
  },
  {
   "cell_type": "code",
   "execution_count": 4,
   "metadata": {},
   "outputs": [
    {
     "name": "stdout",
     "output_type": "stream",
     "text": [
      "[7, 81, 2, 3, 45, 6, 4, 5, 3, 1, 2, 4, 3, 34, 343, 4, 545]\n",
      "[7, 81, 2, 3, 45, 6, 4, 5, 3, 1, 2, 4, 3, 34, 343, 4, 545]\n",
      "[2, 7, 81, 3, 45, 6, 4, 5, 3, 1, 2, 4, 3, 34, 343, 4, 545]\n",
      "[2, 3, 7, 81, 45, 6, 4, 5, 3, 1, 2, 4, 3, 34, 343, 4, 545]\n",
      "[2, 3, 7, 45, 81, 6, 4, 5, 3, 1, 2, 4, 3, 34, 343, 4, 545]\n",
      "[2, 3, 6, 7, 45, 81, 4, 5, 3, 1, 2, 4, 3, 34, 343, 4, 545]\n",
      "[2, 3, 4, 6, 7, 45, 81, 5, 3, 1, 2, 4, 3, 34, 343, 4, 545]\n",
      "[2, 3, 4, 5, 6, 7, 45, 81, 3, 1, 2, 4, 3, 34, 343, 4, 545]\n",
      "[2, 3, 3, 4, 5, 6, 7, 45, 81, 1, 2, 4, 3, 34, 343, 4, 545]\n",
      "[1, 2, 3, 3, 4, 5, 6, 7, 45, 81, 2, 4, 3, 34, 343, 4, 545]\n",
      "[1, 2, 2, 3, 3, 4, 5, 6, 7, 45, 81, 4, 3, 34, 343, 4, 545]\n",
      "[1, 2, 2, 3, 3, 4, 4, 5, 6, 7, 45, 81, 3, 34, 343, 4, 545]\n",
      "[1, 2, 2, 3, 3, 3, 4, 4, 5, 6, 7, 45, 81, 34, 343, 4, 545]\n",
      "[1, 2, 2, 3, 3, 3, 4, 4, 5, 6, 7, 34, 45, 81, 343, 4, 545]\n",
      "[1, 2, 2, 3, 3, 3, 4, 4, 5, 6, 7, 34, 45, 81, 343, 4, 545]\n",
      "[1, 2, 2, 3, 3, 3, 4, 4, 4, 5, 6, 7, 34, 45, 81, 343, 545]\n",
      "[1, 2, 2, 3, 3, 3, 4, 4, 4, 5, 6, 7, 34, 45, 81, 343, 545]\n"
     ]
    }
   ],
   "source": [
    "li =[7,81,2,3,45,6,4,5,3,1,2,4,3,34,343,4,545]\n",
    "insetsor(li)"
   ]
  },
  {
   "cell_type": "code",
   "execution_count": null,
   "metadata": {},
   "outputs": [],
   "source": []
  }
 ],
 "metadata": {
  "kernelspec": {
   "display_name": "Python 3",
   "language": "python",
   "name": "python3"
  },
  "language_info": {
   "codemirror_mode": {
    "name": "ipython",
    "version": 3
   },
   "file_extension": ".py",
   "mimetype": "text/x-python",
   "name": "python",
   "nbconvert_exporter": "python",
   "pygments_lexer": "ipython3",
   "version": "3.12.0"
  }
 },
 "nbformat": 4,
 "nbformat_minor": 2
}
