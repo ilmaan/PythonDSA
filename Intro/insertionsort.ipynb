{
 "cells": [
  {
   "cell_type": "code",
   "execution_count": 13,
   "metadata": {},
   "outputs": [],
   "source": [
    "def insetsor(li):\n",
    "    for i in range(len(li)):\n",
    "        j = i-1\n",
    "        print(\"i\",i,\"j\",j)\n",
    "        t = li[i]\n",
    "\n",
    "        print(\"t,\",t)\n",
    "        while (j>=0 and li[j]>t):\n",
    "            print(\"------------j,t\",j,t)\n",
    "            li[j+1] = li[j]\n",
    "            j=j-1\n",
    "            li[j+1] = t\n",
    "        print(li)"
   ]
  },
  {
   "cell_type": "code",
   "execution_count": 14,
   "metadata": {},
   "outputs": [
    {
     "name": "stdout",
     "output_type": "stream",
     "text": [
      "i 0 j -1\n",
      "t, 5\n",
      "[5, 2, 4, 6, 1, 3]\n",
      "i 1 j 0\n",
      "t, 2\n",
      "------------j,t 0 2\n",
      "[2, 5, 4, 6, 1, 3]\n",
      "i 2 j 1\n",
      "t, 4\n",
      "------------j,t 1 4\n",
      "[2, 4, 5, 6, 1, 3]\n",
      "i 3 j 2\n",
      "t, 6\n",
      "[2, 4, 5, 6, 1, 3]\n",
      "i 4 j 3\n",
      "t, 1\n",
      "------------j,t 3 1\n",
      "------------j,t 2 1\n",
      "------------j,t 1 1\n",
      "------------j,t 0 1\n",
      "[1, 2, 4, 5, 6, 3]\n",
      "i 5 j 4\n",
      "t, 3\n",
      "------------j,t 4 3\n",
      "------------j,t 3 3\n",
      "------------j,t 2 3\n",
      "[1, 2, 3, 4, 5, 6]\n"
     ]
    }
   ],
   "source": [
    "# li =[7,81,2,3,45,6,4,5,3,1,2,4,3,34,343,4,545]\n",
    "li = [5,2,4,6,1,3]\n",
    "insetsor(li)"
   ]
  },
  {
   "cell_type": "code",
   "execution_count": null,
   "metadata": {},
   "outputs": [],
   "source": []
  }
 ],
 "metadata": {
  "kernelspec": {
   "display_name": "Python 3",
   "language": "python",
   "name": "python3"
  },
  "language_info": {
   "codemirror_mode": {
    "name": "ipython",
    "version": 3
   },
   "file_extension": ".py",
   "mimetype": "text/x-python",
   "name": "python",
   "nbconvert_exporter": "python",
   "pygments_lexer": "ipython3",
   "version": "3.12.6"
  }
 },
 "nbformat": 4,
 "nbformat_minor": 2
}
