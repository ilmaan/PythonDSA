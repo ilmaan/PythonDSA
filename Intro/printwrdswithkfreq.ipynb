{
 "cells": [
  {
   "cell_type": "code",
   "execution_count": null,
   "metadata": {},
   "outputs": [],
   "source": []
  },
  {
   "cell_type": "markdown",
   "metadata": {},
   "source": [
    "Print All words with frequency K"
   ]
  },
  {
   "cell_type": "code",
   "execution_count": 16,
   "metadata": {},
   "outputs": [
    {
     "name": "stdout",
     "output_type": "stream",
     "text": [
      "['hey', 'man', 'its', 'me', 'man', 'how', 'are', 'man', 'you', 'its']\n",
      "-=-=-=-=- {'hey': 1}\n",
      "-=-=-=-=- {'hey': 1, 'man': 1}\n",
      "-=-=-=-=- {'hey': 1, 'man': 1, 'its': 1}\n",
      "-=-=-=-=- {'hey': 1, 'man': 1, 'its': 1, 'me': 1}\n",
      "-=-=-=-=- {'hey': 1, 'man': 2, 'its': 1, 'me': 1}\n",
      "-=-=-=-=- {'hey': 1, 'man': 2, 'its': 1, 'me': 1, 'how': 1}\n",
      "-=-=-=-=- {'hey': 1, 'man': 2, 'its': 1, 'me': 1, 'how': 1, 'are': 1}\n",
      "-=-=-=-=- {'hey': 1, 'man': 3, 'its': 1, 'me': 1, 'how': 1, 'are': 1}\n",
      "-=-=-=-=- {'hey': 1, 'man': 3, 'its': 1, 'me': 1, 'how': 1, 'are': 1, 'you': 1}\n",
      "-=-=-=-=- {'hey': 1, 'man': 3, 'its': 2, 'me': 1, 'how': 1, 'are': 1, 'you': 1}\n"
     ]
    }
   ],
   "source": [
    "def wordfreq(st,k):\n",
    "    st=st.split()\n",
    "    d={}\n",
    "    print(st)\n",
    "\n",
    "    for i in st:\n",
    "        # print(i)\n",
    "        if i in d:\n",
    "            d[i]=d[i]+1\n",
    "            \n",
    "        else:\n",
    "            d[i]=1\n",
    "            \n",
    "        print('-=-=-=-=-',d)\n",
    "\n",
    "\n",
    "\n",
    "st='hey man its me man how are man you its'\n",
    "\n",
    "wordfreq(st,2)"
   ]
  },
  {
   "cell_type": "code",
   "execution_count": 21,
   "metadata": {},
   "outputs": [
    {
     "name": "stdout",
     "output_type": "stream",
     "text": [
      "['hey', 'man', 'its', 'me', 'man', 'how', 'are', 'man', 'you', 'its']\n",
      "-=-=-=-=- {'hey': 1}\n",
      "-=-=-=-=- {'hey': 1, 'man': 1}\n",
      "-=-=-=-=- {'hey': 1, 'man': 1, 'its': 1}\n",
      "-=-=-=-=- {'hey': 1, 'man': 1, 'its': 1, 'me': 1}\n",
      "-=-=-=-=- {'hey': 1, 'man': 2, 'its': 1, 'me': 1}\n",
      "man 2\n",
      "-=-=-=-=- {'hey': 1, 'man': 2, 'its': 1, 'me': 1, 'how': 1}\n",
      "-=-=-=-=- {'hey': 1, 'man': 2, 'its': 1, 'me': 1, 'how': 1, 'are': 1}\n",
      "-=-=-=-=- {'hey': 1, 'man': 3, 'its': 1, 'me': 1, 'how': 1, 'are': 1}\n",
      "-=-=-=-=- {'hey': 1, 'man': 3, 'its': 1, 'me': 1, 'how': 1, 'are': 1, 'you': 1}\n",
      "-=-=-=-=- {'hey': 1, 'man': 3, 'its': 2, 'me': 1, 'how': 1, 'are': 1, 'you': 1}\n",
      "its 2\n"
     ]
    }
   ],
   "source": [
    "def wordfreq(st,k):\n",
    "    st=st.split()\n",
    "    d={}\n",
    "    print(st)\n",
    "\n",
    "    for i in st:\n",
    "        # print(i)\n",
    "        d[i]=d.get(i,0)+1\n",
    "            \n",
    "        print('-=-=-=-=-',d)\n",
    "\n",
    "        if d[i]==k:\n",
    "            print(i,d[i])\n",
    "    \n",
    "    \n",
    "\n",
    "\n",
    "\n",
    "st='hey man its me man how are man you its'\n",
    "\n",
    "wordfreq(st,2)"
   ]
  },
  {
   "cell_type": "code",
   "execution_count": null,
   "metadata": {},
   "outputs": [],
   "source": []
  }
 ],
 "metadata": {
  "kernelspec": {
   "display_name": "Python 3",
   "language": "python",
   "name": "python3"
  },
  "language_info": {
   "codemirror_mode": {
    "name": "ipython",
    "version": 3
   },
   "file_extension": ".py",
   "mimetype": "text/x-python",
   "name": "python",
   "nbconvert_exporter": "python",
   "pygments_lexer": "ipython3",
   "version": "3.12.6"
  }
 },
 "nbformat": 4,
 "nbformat_minor": 2
}
