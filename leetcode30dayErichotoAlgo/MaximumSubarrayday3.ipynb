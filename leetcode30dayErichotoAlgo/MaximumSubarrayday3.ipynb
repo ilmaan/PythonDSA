{
 "cells": [
  {
   "cell_type": "code",
   "execution_count": null,
   "metadata": {},
   "outputs": [],
   "source": []
  },
  {
   "cell_type": "markdown",
   "metadata": {},
   "source": [
    "Maximum Subarray"
   ]
  },
  {
   "cell_type": "markdown",
   "metadata": {},
   "source": []
  },
  {
   "cell_type": "code",
   "execution_count": 57,
   "metadata": {},
   "outputs": [
    {
     "name": "stdout",
     "output_type": "stream",
     "text": [
      "[-1, -2]\n",
      "0 -- -1 -- -1\n",
      "0 -- -1 -- -2\n"
     ]
    }
   ],
   "source": [
    "def maxsubarray(nums):\n",
    "    suml=0\n",
    "    ls=[]\n",
    "    if nums[0]<0 and len(nums)>2:\n",
    "        nums.pop(0)\n",
    "    sumcr=nums[0]\n",
    "    if nums[-1]<0 and len(nums)>2:\n",
    "        nums.pop(-1)\n",
    "    print(nums)\n",
    "    for i in nums:\n",
    "        suml = suml+i\n",
    "        sumcr = max(sumcr,suml)\n",
    "\n",
    "        if suml<0:\n",
    "            suml=0\n",
    "        print(suml,'--',sumcr,'--',i)\n",
    "        \n",
    "\n",
    "        \n",
    "        \n",
    "\n",
    "        \n",
    "\n",
    "nums=[-2,1,-3,4,-1,2,1,-5,4]\n",
    "nums = [-1,-2]\n",
    "\n",
    "maxsubarray(nums)\n"
   ]
  },
  {
   "cell_type": "code",
   "execution_count": null,
   "metadata": {},
   "outputs": [],
   "source": []
  }
 ],
 "metadata": {
  "kernelspec": {
   "display_name": "Python 3",
   "language": "python",
   "name": "python3"
  },
  "language_info": {
   "codemirror_mode": {
    "name": "ipython",
    "version": 3
   },
   "file_extension": ".py",
   "mimetype": "text/x-python",
   "name": "python",
   "nbconvert_exporter": "python",
   "pygments_lexer": "ipython3",
   "version": "3.12.0"
  }
 },
 "nbformat": 4,
 "nbformat_minor": 2
}
