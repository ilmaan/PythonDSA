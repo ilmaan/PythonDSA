{
 "cells": [
  {
   "cell_type": "code",
   "execution_count": null,
   "metadata": {},
   "outputs": [],
   "source": []
  },
  {
   "cell_type": "markdown",
   "metadata": {},
   "source": [
    "136. Single Number"
   ]
  },
  {
   "cell_type": "code",
   "execution_count": 12,
   "metadata": {},
   "outputs": [],
   "source": [
    "\n",
    "def singleNumber(nums):\n",
    "    x=0\n",
    "\n",
    "    for i in nums:\n",
    "        x= i^x\n",
    "    return x"
   ]
  },
  {
   "cell_type": "code",
   "execution_count": 27,
   "metadata": {},
   "outputs": [
    {
     "data": {
      "text/plain": [
       "3"
      ]
     },
     "execution_count": 27,
     "metadata": {},
     "output_type": "execute_result"
    }
   ],
   "source": [
    "\n",
    "nums = [1,1,2,3,2]\n",
    "singleNumber(nums)"
   ]
  },
  {
   "cell_type": "code",
   "execution_count": 133,
   "metadata": {},
   "outputs": [],
   "source": [
    "\n",
    "def singl(nums):\n",
    "    x={}\n",
    "\n",
    "    for i in nums:\n",
    "        print(x)\n",
    "        if i not in x:\n",
    "            x[i]=i\n",
    "        else:\n",
    "            del x[i]\n",
    "\n",
    "\n",
    "\n",
    "        \n",
    "    return list(x.keys())[0]\n",
    "\n"
   ]
  },
  {
   "cell_type": "code",
   "execution_count": 134,
   "metadata": {},
   "outputs": [
    {
     "name": "stdout",
     "output_type": "stream",
     "text": [
      "{}\n",
      "{1: 1}\n",
      "{1: 1, 0: 0}\n"
     ]
    },
    {
     "data": {
      "text/plain": [
       "0"
      ]
     },
     "execution_count": 134,
     "metadata": {},
     "output_type": "execute_result"
    }
   ],
   "source": [
    "nums= [1,0,1]\n",
    "singl(nums)"
   ]
  },
  {
   "cell_type": "markdown",
   "metadata": {},
   "source": [
    "202. Happy Number"
   ]
  },
  {
   "cell_type": "code",
   "execution_count": 45,
   "metadata": {},
   "outputs": [
    {
     "name": "stdout",
     "output_type": "stream",
     "text": [
      "{7}\n",
      "Sss 49\n",
      "{'49'}\n",
      "Sss 16\n",
      "Sss 97\n",
      "{'97'}\n",
      "Sss 81\n",
      "Sss 130\n",
      "{'130'}\n",
      "Sss 1\n",
      "Sss 10\n",
      "Sss 10\n",
      "{'10'}\n",
      "Sss 1\n",
      "Sss 1\n",
      "TREUE\n"
     ]
    }
   ],
   "source": [
    " \n",
    "def ishappy(num):\n",
    "    h = set()\n",
    "\n",
    "    if num not in h:\n",
    "         h.add(num)\n",
    "\n",
    "\n",
    "    n=str(num)\n",
    "    l=[]\n",
    "    s=0\n",
    "    print(h)\n",
    "    if n=='1':\n",
    "            return True\n",
    "    else:\n",
    "        for i in n:\n",
    "            l.append(i)\n",
    "            # print(l)\n",
    "        for i in l:\n",
    "            s+= int(i)**2\n",
    "            print(\"Sss\",s)\n",
    "        \n",
    "        if s!=1:\n",
    "\n",
    "            ishappy(str(s))\n",
    "        elif s==1:\n",
    "            print(\"TREUE\")\n",
    "            True\n",
    "        \n",
    "\n",
    "\n",
    "        \n",
    "    # print(i)\n",
    "\n",
    "\n",
    "    # print(n)\n",
    "ishappy(7)\n"
   ]
  },
  {
   "cell_type": "code",
   "execution_count": 123,
   "metadata": {},
   "outputs": [
    {
     "name": "stdout",
     "output_type": "stream",
     "text": [
      "2\n",
      "[4]\n",
      "4\n",
      "[4, 16]\n",
      "16\n",
      "[4, 16, 37]\n",
      "37\n",
      "[4, 16, 37, 58]\n",
      "58\n",
      "[4, 16, 37, 58, 89]\n",
      "89\n",
      "[4, 16, 37, 58, 89, 145]\n",
      "145\n",
      "[4, 16, 37, 58, 89, 145, 42]\n",
      "42\n",
      "[4, 16, 37, 58, 89, 145, 42, 20]\n",
      "20\n",
      "YAHA SE\n",
      "4 ---- [4, 16, 37, 58, 89, 145, 42, 20]\n"
     ]
    },
    {
     "data": {
      "text/plain": [
       "False"
      ]
     },
     "execution_count": 123,
     "metadata": {},
     "output_type": "execute_result"
    }
   ],
   "source": [
    "def ishappyt1(n):\n",
    "    c=1\n",
    "    q=[]\n",
    "\n",
    "    if n==1:\n",
    "        return True\n",
    "    while(n!=1):\n",
    "        print(n)\n",
    "        \n",
    "        l=[]\n",
    "        # c=c+1\n",
    "        # if c>0:\n",
    "        #     return False\n",
    "        n=str(n)\n",
    "        for i in n:\n",
    "            l.append(i)\n",
    "        s=0\n",
    "        for i in l:\n",
    "            # if 1 in q:\n",
    "            #     return True\n",
    "            s+= int(i)**2\n",
    "            n =s\n",
    "        if s in q and s!=1:\n",
    "            print(\"YAHA SE\")\n",
    "            print(n,'----',q)\n",
    "            return False \n",
    "        else:\n",
    "            q.append(s)\n",
    "        print(q)\n",
    "    if s==1:\n",
    "        return True\n",
    "    return False\n",
    "ishappyt1(2)"
   ]
  },
  {
   "cell_type": "code",
   "execution_count": 125,
   "metadata": {},
   "outputs": [],
   "source": [
    "def ishappy(n):\n",
    "    q=[]\n",
    "    if n==1:\n",
    "        return True\n",
    "    while(n!=1):\n",
    "        l=[]\n",
    "        for i in str(n):\n",
    "            l.append(i)\n",
    "        s=0\n",
    "        for i in l:\n",
    "            if 1 in q:\n",
    "                return True\n",
    "            s+= int(i)**2\n",
    "            n=s\n",
    "        if s in q:\n",
    "            return False \n",
    "        else:\n",
    "            q.append(s)\n",
    "    if s==1:\n",
    "        return True\n",
    "    return False"
   ]
  },
  {
   "cell_type": "code",
   "execution_count": null,
   "metadata": {},
   "outputs": [],
   "source": [
    "\n"
   ]
  }
 ],
 "metadata": {
  "kernelspec": {
   "display_name": "Python 3",
   "language": "python",
   "name": "python3"
  },
  "language_info": {
   "codemirror_mode": {
    "name": "ipython",
    "version": 3
   },
   "file_extension": ".py",
   "mimetype": "text/x-python",
   "name": "python",
   "nbconvert_exporter": "python",
   "pygments_lexer": "ipython3",
   "version": "3.12.0"
  }
 },
 "nbformat": 4,
 "nbformat_minor": 2
}
