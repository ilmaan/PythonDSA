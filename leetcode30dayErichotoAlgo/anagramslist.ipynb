{
 "cells": [
  {
   "cell_type": "code",
   "execution_count": null,
   "metadata": {},
   "outputs": [],
   "source": []
  },
  {
   "cell_type": "markdown",
   "metadata": {},
   "source": [
    "Anagrams List"
   ]
  },
  {
   "cell_type": "code",
   "execution_count": 19,
   "metadata": {},
   "outputs": [
    {
     "name": "stdout",
     "output_type": "stream",
     "text": [
      "{1, 2, 3, 4, 5} ('s', 'd', 'f', 's', 'd')\n"
     ]
    }
   ],
   "source": [
    "a={1,2,3,4,5}\n",
    "b={3,2,6,1,'l',34,'sas'}\n",
    "\n",
    "# if a==b:\n",
    "#     print(\"yes\")\n",
    "\n",
    "b=\"sdfsd\"\n",
    "b=tuple(b)\n",
    "\n",
    "print(a,b)"
   ]
  },
  {
   "cell_type": "code",
   "execution_count": 48,
   "metadata": {},
   "outputs": [
    {
     "name": "stdout",
     "output_type": "stream",
     "text": [
      "[] <class 'dict'>\n",
      "{'aet': ['eat', 'tea', 'ate'], 'ant': ['tan', 'nat'], 'abt': ['bat']}\n",
      "[['eat', 'tea', 'ate'], ['tan', 'nat'], ['bat']]\n"
     ]
    }
   ],
   "source": [
    "def anagram(li):\n",
    "    \n",
    "    s={}\n",
    "    l=[]\n",
    "    print(l,type(s))\n",
    "    for i in li:\n",
    "\n",
    "        d= \"\".join(sorted(i))\n",
    "        if d in s:\n",
    "            s[d].append(i)\n",
    "        else:\n",
    "            s[d]=[i]\n",
    "    \n",
    "    print(s)\n",
    "\n",
    "    l=list(s.values())\n",
    "\n",
    "    return l\n",
    "\n",
    "    \n",
    "\n",
    "\n",
    "li= [\"eat\",\"tea\",\"tan\",\"ate\",\"nat\",\"bat\"]\n",
    "anagram(li)\n"
   ]
  },
  {
   "cell_type": "code",
   "execution_count": null,
   "metadata": {},
   "outputs": [],
   "source": []
  }
 ],
 "metadata": {
  "kernelspec": {
   "display_name": "Python 3",
   "language": "python",
   "name": "python3"
  },
  "language_info": {
   "codemirror_mode": {
    "name": "ipython",
    "version": 3
   },
   "file_extension": ".py",
   "mimetype": "text/x-python",
   "name": "python",
   "nbconvert_exporter": "python",
   "pygments_lexer": "ipython3",
   "version": "3.12.0"
  }
 },
 "nbformat": 4,
 "nbformat_minor": 2
}
