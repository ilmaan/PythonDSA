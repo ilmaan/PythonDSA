{
 "cells": [
  {
   "cell_type": "code",
   "execution_count": null,
   "metadata": {},
   "outputs": [],
   "source": [
    "def longest_common_sub(li):\n",
    "    \n",
    "    min_len = float('inf')\n",
    "    \n",
    "    for l in li:\n",
    "        if len(l)<min_len:\n",
    "            min_len=len(l)\n",
    "    \n",
    "    print(\"MIN\",min_len)\n",
    "    i=0\n",
    "    while i < min_len:\n",
    "        for s in li:\n",
    "            if s[i]!= li[0][i]:\n",
    "                print(\"SSSSS\")\n",
    "                return s[:i]\n",
    "        i = i+1\n",
    "        \n",
    "        \n",
    "    \n",
    "    \n",
    "li = [\"racq\",\"racecar\",\"raceacar\"]\n",
    "\n",
    "print(longest_common_sub(li))"
   ]
  }
 ],
 "metadata": {
  "language_info": {
   "name": "python"
  }
 },
 "nbformat": 4,
 "nbformat_minor": 2
}
