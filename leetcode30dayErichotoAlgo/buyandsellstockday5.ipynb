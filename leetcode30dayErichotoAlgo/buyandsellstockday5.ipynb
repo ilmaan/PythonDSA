{
 "cells": [
  {
   "cell_type": "code",
   "execution_count": null,
   "metadata": {},
   "outputs": [],
   "source": []
  },
  {
   "cell_type": "markdown",
   "metadata": {},
   "source": [
    "Buy and sell Stock"
   ]
  },
  {
   "cell_type": "code",
   "execution_count": 44,
   "metadata": {},
   "outputs": [
    {
     "data": {
      "text/plain": [
       "73"
      ]
     },
     "execution_count": 44,
     "metadata": {},
     "output_type": "execute_result"
    }
   ],
   "source": [
    "def maxproffit(nums):\n",
    "    p=0\n",
    "    l=[]\n",
    "    # print(nums)\n",
    "    for i in range(len(nums)):\n",
    "        # print(nums[i],)\n",
    "        for j in nums[i+1:]:\n",
    "            # print(nums[i],'iii---',j,'jjj')\n",
    "            p=j-nums[i]\n",
    "            l.append(p)\n",
    "    if max(l)<0:\n",
    "        return 0\n",
    "    else:\n",
    "        return max(l)\n",
    "    print(max(l))\n",
    "\n",
    "        \n",
    "nums= [7,1,5,3,6,7,74]\n",
    "\n",
    "maxproffit(nums)"
   ]
  },
  {
   "cell_type": "code",
   "execution_count": 48,
   "metadata": {},
   "outputs": [
    {
     "data": {
      "text/plain": [
       "17"
      ]
     },
     "execution_count": 48,
     "metadata": {},
     "output_type": "execute_result"
    }
   ],
   "source": [
    "def maxproffitt1(prices):\n",
    "    s=0\n",
    "    l,r=0,1\n",
    "    while r<len(prices):\n",
    "        if prices[l]<prices[r]:\n",
    "            p = prices[r]-prices[l]\n",
    "            s= max(s,p)\n",
    "        else:\n",
    "            l=l+1\n",
    "        r=r+1\n",
    "    return s\n",
    "\n",
    "\n",
    "\n",
    "prices= [7,1,5,3,6,1,22]\n",
    "\n",
    "maxproffitt1(prices)\n"
   ]
  },
  {
   "cell_type": "code",
   "execution_count": 80,
   "metadata": {},
   "outputs": [
    {
     "data": {
      "text/plain": [
       "5"
      ]
     },
     "execution_count": 80,
     "metadata": {},
     "output_type": "execute_result"
    }
   ],
   "source": [
    "def maxprofit2(prices):\n",
    "    s=0\n",
    "    m=prices[0]\n",
    "    for i in range(len(prices)):\n",
    "       d=prices[i]-m\n",
    "       s=max(s,d) \n",
    "       m=min(m,prices[i])\n",
    "    return s\n",
    "    \n",
    "\n",
    "\n",
    "\n",
    "prices= [7,1,5,3,6,1]\n",
    "\n",
    "maxprofit2(prices)"
   ]
  },
  {
   "cell_type": "code",
   "execution_count": null,
   "metadata": {},
   "outputs": [],
   "source": []
  }
 ],
 "metadata": {
  "kernelspec": {
   "display_name": "Python 3",
   "language": "python",
   "name": "python3"
  },
  "language_info": {
   "codemirror_mode": {
    "name": "ipython",
    "version": 3
   },
   "file_extension": ".py",
   "mimetype": "text/x-python",
   "name": "python",
   "nbconvert_exporter": "python",
   "pygments_lexer": "ipython3",
   "version": "3.12.0"
  }
 },
 "nbformat": 4,
 "nbformat_minor": 2
}
